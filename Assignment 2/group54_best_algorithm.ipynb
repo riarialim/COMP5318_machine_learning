{
 "cells": [
  {
   "cell_type": "markdown",
   "metadata": {
    "id": "uERLThKcX3ZU"
   },
   "source": [
    "# Importing libraries and loading data"
   ]
  },
  {
   "cell_type": "code",
   "execution_count": 161,
   "metadata": {
    "ExecuteTime": {
     "end_time": "2020-11-18T06:19:40.838333Z",
     "start_time": "2020-11-18T06:19:40.580601Z"
    },
    "executionInfo": {
     "elapsed": 7066,
     "status": "ok",
     "timestamp": 1605425981533,
     "user": {
      "displayName": "William Ryan",
      "photoUrl": "",
      "userId": "11732311540995836980"
     },
     "user_tz": -660
    },
    "id": "CEWLKWaolvj5"
   },
   "outputs": [],
   "source": [
    "# General and for pre-processing\n",
    "import numpy as np\n",
    "import pandas as pd\n",
    "import pickle\n",
    "import time\n",
    "from scipy import misc\n",
    "from tqdm import tqdm\n",
    "import matplotlib.pylab as plt\n",
    "import seaborn as sns\n",
    "%matplotlib inline\n",
    "import pywt\n",
    "\n",
    "# For spliting data and analysing the accuracy\n",
    "from sklearn.metrics import confusion_matrix\n",
    "from sklearn.metrics import accuracy_score\n",
    "from sklearn.metrics import recall_score\n",
    "from sklearn.metrics import precision_score\n",
    "from sklearn.model_selection import train_test_split\n",
    "from sklearn.model_selection import KFold\n",
    "\n",
    "\n",
    "# For CNN\n",
    "import keras\n",
    "from keras.utils import to_categorical\n",
    "from keras.layers import Input, Dense\n",
    "from keras.models import Model\n",
    "from keras.models import Sequential\n",
    "from keras.layers import Dense, Dropout, Activation, Flatten\n",
    "from keras.layers import Conv2D, MaxPooling2D\n",
    "from keras.layers import BatchNormalization"
   ]
  },
  {
   "cell_type": "code",
   "execution_count": 6,
   "metadata": {
    "colab": {
     "base_uri": "https://localhost:8080/"
    },
    "executionInfo": {
     "elapsed": 5546,
     "status": "ok",
     "timestamp": 1605425981533,
     "user": {
      "displayName": "William Ryan",
      "photoUrl": "",
      "userId": "11732311540995836980"
     },
     "user_tz": -660
    },
    "id": "N7vInfvhmYjV",
    "outputId": "a03b6e46-016a-446d-ad07-a8266ab9189b"
   },
   "outputs": [
    {
     "name": "stdout",
     "output_type": "stream",
     "text": [
      "Drive already mounted at /content/drive; to attempt to forcibly remount, call drive.mount(\"/content/drive\", force_remount=True).\n"
     ]
    }
   ],
   "source": [
    "'''from google.colab import drive\n",
    "drive.mount('/content/drive')'''"
   ]
  },
  {
   "cell_type": "code",
   "execution_count": 2,
   "metadata": {
    "ExecuteTime": {
     "end_time": "2020-11-17T02:03:08.517664Z",
     "start_time": "2020-11-17T02:03:03.558573Z"
    }
   },
   "outputs": [],
   "source": [
    "def unpickle(file):\n",
    "    with open(file, 'rb') as fo:\n",
    "        res = pickle.load(fo, encoding='bytes')\n",
    "    return res\n",
    "\n",
    "# META\n",
    "meta = unpickle('./cifar-100-python/meta')\n",
    "fine_label_names = [t.decode('utf8') for t in meta[b'fine_label_names']]\n",
    "coarse_label_names = [t.decode('utf8') for t in meta[b'coarse_label_names']]\n",
    "\n",
    "# TRAIN\n",
    "train = unpickle('./cifar-100-python/train')\n",
    "filenames_train = [t.decode('utf8') for t in train[b'filenames']]\n",
    "fine_labels_train = train[b'fine_labels']\n",
    "coarse_labels_train = train[b'coarse_labels']\n",
    "data_train = train[b'data']\n",
    "\n",
    "# TEST\n",
    "test = unpickle('./cifar-100-python/test')\n",
    "filenames_test = [t.decode('utf8') for t in test[b'filenames']]\n",
    "fine_labels_test = test[b'fine_labels']\n",
    "coarse_labels_test = test[b'coarse_labels']\n",
    "data_test = test[b'data']\n",
    "\n",
    "# Shuffling training data and labels\n",
    "training_set_for_shuffling = np.column_stack((coarse_labels_train,data_train))\n",
    "training_set_for_shuffling = np.column_stack((fine_labels_train,training_set_for_shuffling))\n",
    "np.random.shuffle(training_set_for_shuffling)\n",
    "\n",
    "# Separating back to data and labels\n",
    "fine_labels_train = training_set_for_shuffling[:,0]\n",
    "coarse_labels_train = training_set_for_shuffling[:,1]\n",
    "data_train = training_set_for_shuffling[:,2:]\n",
    "\n",
    "coarse_labels_train_array = np.array(coarse_labels_train)\n",
    "coarse_labels_test_array = np.array(coarse_labels_test)"
   ]
  },
  {
   "cell_type": "code",
   "execution_count": 7,
   "metadata": {
    "executionInfo": {
     "elapsed": 11379,
     "status": "ok",
     "timestamp": 1605425988237,
     "user": {
      "displayName": "William Ryan",
      "photoUrl": "",
      "userId": "11732311540995836980"
     },
     "user_tz": -660
    },
    "id": "gChiK6DlnsnM"
   },
   "outputs": [],
   "source": [
    "'''\n",
    "def unpickle(file):\n",
    "    with open(file, 'rb') as fo:\n",
    "        res = pickle.load(fo, encoding='bytes')\n",
    "    return res\n",
    "\n",
    "meta = unpickle('/content/drive/My Drive/COMP5318_Ass2_Group54/cifar-100-python/meta')\n",
    "\n",
    "fine_label_names = [t.decode('utf8') for t in meta[b'fine_label_names']]\n",
    "coarse_label_names = [t.decode('utf8') for t in meta[b'coarse_label_names']]\n",
    "\n",
    "train = unpickle('/content/drive/My Drive/COMP5318_Ass2_Group54/cifar-100-python/train')\n",
    "\n",
    "filenames_train = [t.decode('utf8') for t in train[b'filenames']]\n",
    "fine_labels_train = train[b'fine_labels']\n",
    "coarse_labels_train = train[b'coarse_labels']\n",
    "data_train = train[b'data']\n",
    "\n",
    "test = unpickle('/content/drive/My Drive/COMP5318_Ass2_Group54/cifar-100-python/test')\n",
    "\n",
    "filenames_test = [t.decode('utf8') for t in test[b'filenames']]\n",
    "fine_labels_test = test[b'fine_labels']\n",
    "coarse_labels_test = test[b'coarse_labels']\n",
    "data_test = test[b'data']\n",
    "\n",
    "# Shuffling training data and labels\n",
    "training_set_for_shuffling = np.column_stack((coarse_labels_train,data_train))\n",
    "training_set_for_shuffling = np.column_stack((fine_labels_train,training_set_for_shuffling))\n",
    "np.random.shuffle(training_set_for_shuffling)\n",
    "\n",
    "# Separating back to data and labels\n",
    "fine_labels_train = training_set_for_shuffling[:,0]\n",
    "coarse_labels_train = training_set_for_shuffling[:,1]\n",
    "data_train = training_set_for_shuffling[:,2:]\n",
    "\n",
    "coarse_labels_train_array = np.array(coarse_labels_train)\n",
    "coarse_labels_test_array = np.array(coarse_labels_test)\n",
    "'''"
   ]
  },
  {
   "cell_type": "code",
   "execution_count": 3,
   "metadata": {
    "ExecuteTime": {
     "end_time": "2020-11-17T02:03:12.856144Z",
     "start_time": "2020-11-17T02:03:12.812592Z"
    },
    "executionInfo": {
     "elapsed": 9539,
     "status": "ok",
     "timestamp": 1605425988238,
     "user": {
      "displayName": "William Ryan",
      "photoUrl": "",
      "userId": "11732311540995836980"
     },
     "user_tz": -660
    },
    "id": "B246_i22btmw"
   },
   "outputs": [],
   "source": [
    "def data_to_images(data, change_dtype=False, change_to_array=True):\n",
    "  '''\n",
    "  This function convert data in shape (N, 3072)\n",
    "  into data images with shape (N,32,32,3)\n",
    "  where N is the number of data\n",
    "  32 x 32 are the size of image\n",
    "  3 is the number of channel, RGB\n",
    "  '''\n",
    "  images = list()\n",
    "  for d in data:\n",
    "    if change_dtype:\n",
    "      image = np.zeros((32,32,3), dtype=np.uint8)\n",
    "    else:\n",
    "      image = np.zeros((32,32,3))\n",
    "    image[...,0] = np.reshape(d[:1024], (32,32)) # Red channel\n",
    "    image[...,1] = np.reshape(d[1024:2048], (32,32)) # Green channel\n",
    "    image[...,2] = np.reshape(d[2048:], (32,32)) # Blue channel\n",
    "    images.append(image)\n",
    "\n",
    "  if change_to_array:\n",
    "    images = np.array(images)\n",
    "\n",
    "  return images"
   ]
  },
  {
   "cell_type": "code",
   "execution_count": 4,
   "metadata": {
    "ExecuteTime": {
     "end_time": "2020-11-17T02:03:15.643732Z",
     "start_time": "2020-11-17T02:03:14.359727Z"
    },
    "executionInfo": {
     "elapsed": 7891,
     "status": "ok",
     "timestamp": 1605425988238,
     "user": {
      "displayName": "William Ryan",
      "photoUrl": "",
      "userId": "11732311540995836980"
     },
     "user_tz": -660
    },
    "id": "CzuOALGrfjT9"
   },
   "outputs": [],
   "source": [
    "images_train = data_to_images(data_train, change_dtype= True)\n",
    "images_test = data_to_images(data_test, change_dtype= True)"
   ]
  },
  {
   "cell_type": "code",
   "execution_count": 5,
   "metadata": {
    "ExecuteTime": {
     "end_time": "2020-11-17T02:03:17.344135Z",
     "start_time": "2020-11-17T02:03:17.333921Z"
    },
    "executionInfo": {
     "elapsed": 939,
     "status": "ok",
     "timestamp": 1605426008285,
     "user": {
      "displayName": "William Ryan",
      "photoUrl": "",
      "userId": "11732311540995836980"
     },
     "user_tz": -660
    },
    "id": "_7HOyS3Kd-9C"
   },
   "outputs": [],
   "source": [
    "def show(images,i):  \n",
    "  '''\n",
    "  This function is to plot the image with its coarse and fine labels.\n",
    "  Input 1: list or array of reshaped images e.g. shape (N,32,32,3)\n",
    "  Input 2: index of the image wish to show\n",
    "  '''\n",
    "  image = images[i]\n",
    "  \n",
    "  if image.min() < 0:\n",
    "    image = np.clip(image, 0, 1)\n",
    "\n",
    "  plt.imshow(image)\n",
    "  plt.title(\"Superclass \" + str(coarse_labels_train[i]) + \": \" + coarse_label_names[coarse_labels_train[i]]+ \"\\n\" \\\n",
    "            \"Class \" + str(fine_labels_train[i]) + \": \" + fine_label_names[fine_labels_train[i]] )\n",
    "  plt.show()\n",
    "  plt.close()"
   ]
  },
  {
   "cell_type": "code",
   "execution_count": 6,
   "metadata": {
    "ExecuteTime": {
     "end_time": "2020-11-17T02:03:18.946507Z",
     "start_time": "2020-11-17T02:03:18.661553Z"
    },
    "colab": {
     "base_uri": "https://localhost:8080/",
     "height": 295
    },
    "executionInfo": {
     "elapsed": 931,
     "status": "ok",
     "timestamp": 1605426067486,
     "user": {
      "displayName": "William Ryan",
      "photoUrl": "",
      "userId": "11732311540995836980"
     },
     "user_tz": -660
    },
    "id": "kdjzJM8ygAkN",
    "outputId": "50b99a14-94a7-4851-d8f7-8be918ae7fac"
   },
   "outputs": [
    {
     "data": {
      "image/png": "[encoded data removed]",
      "text/plain": [
       "<Figure size 432x288 with 1 Axes>"
      ]
     },
     "metadata": {
      "needs_background": "light"
     },
     "output_type": "display_data"
    }
   ],
   "source": [
    "show(images_train,1)"
   ]
  },
  {
   "cell_type": "markdown",
   "metadata": {
    "id": "wZB_-syaQlEs"
   },
   "source": [
    "# Preprocessing functions"
   ]
  },
  {
   "cell_type": "markdown",
   "metadata": {
    "id": "aWsqY52PT58y"
   },
   "source": [
    "## Standardising"
   ]
  },
  {
   "cell_type": "code",
   "execution_count": 7,
   "metadata": {
    "ExecuteTime": {
     "end_time": "2020-11-17T02:03:24.313913Z",
     "start_time": "2020-11-17T02:03:24.309370Z"
    },
    "executionInfo": {
     "elapsed": 604,
     "status": "ok",
     "timestamp": 1605426012103,
     "user": {
      "displayName": "William Ryan",
      "photoUrl": "",
      "userId": "11732311540995836980"
     },
     "user_tz": -660
    },
    "id": "dZGhjmVGT9rS"
   },
   "outputs": [],
   "source": [
    "def standardise(data_train, data_test):\n",
    "  '''\n",
    "  This function is used for standardising the data\n",
    "\n",
    "  Shape of input data: (N,3072)\n",
    "  Shape of output data: (N,3072)\n",
    "  '''\n",
    "\n",
    "  # Get the mean and std dev of training set along its row\n",
    "  mean = data_train.mean(axis=0)\n",
    "  stdv = data_train.std(axis=0)\n",
    "\n",
    "  # Subtract each pixel with the mean\n",
    "  data_train_standard = (data_train - mean)/stdv\n",
    "  data_test_standard = (data_test - mean)/stdv\n",
    "\n",
    "\n",
    "  return data_train_standard, data_test_standard\n",
    "\n"
   ]
  },
  {
   "cell_type": "code",
   "execution_count": 8,
   "metadata": {
    "ExecuteTime": {
     "end_time": "2020-11-17T02:03:39.087370Z",
     "start_time": "2020-11-17T02:03:27.437247Z"
    },
    "colab": {
     "base_uri": "https://localhost:8080/",
     "height": 295
    },
    "executionInfo": {
     "elapsed": 4966,
     "status": "ok",
     "timestamp": 1605426077466,
     "user": {
      "displayName": "William Ryan",
      "photoUrl": "",
      "userId": "11732311540995836980"
     },
     "user_tz": -660
    },
    "id": "uPV_ISNWq6i-",
    "outputId": "23586623-b816-4b07-b0b2-4db216952ab5"
   },
   "outputs": [
    {
     "data": {
      "image/png": "[encoded data removed]",
      "text/plain": [
       "<Figure size 432x288 with 1 Axes>"
      ]
     },
     "metadata": {
      "needs_background": "light"
     },
     "output_type": "display_data"
    }
   ],
   "source": [
    "train_STD, test_STD = standardise(data_train, data_test)\n",
    "images_STD = data_to_images(train_STD)\n",
    "show(images_STD,1)"
   ]
  },
  {
   "cell_type": "code",
   "execution_count": 15,
   "metadata": {
    "executionInfo": {
     "elapsed": 586,
     "status": "ok",
     "timestamp": 1605426060235,
     "user": {
      "displayName": "William Ryan",
      "photoUrl": "",
      "userId": "11732311540995836980"
     },
     "user_tz": -660
    },
    "id": "Qa4Z5YmP2S02"
   },
   "outputs": [],
   "source": []
  },
  {
   "cell_type": "markdown",
   "metadata": {
    "id": "KECBakNXuAKW"
   },
   "source": [
    "## Wavelet transform (in multichannel)"
   ]
  },
  {
   "cell_type": "code",
   "execution_count": 9,
   "metadata": {
    "ExecuteTime": {
     "end_time": "2020-11-17T02:03:47.815216Z",
     "start_time": "2020-11-17T02:03:47.787502Z"
    },
    "executionInfo": {
     "elapsed": 759,
     "status": "ok",
     "timestamp": 1605426084098,
     "user": {
      "displayName": "William Ryan",
      "photoUrl": "",
      "userId": "11732311540995836980"
     },
     "user_tz": -660
    },
    "id": "fCrMPT7AmVIw"
   },
   "outputs": [],
   "source": [
    "def _wavelet(image,wavelet,wavelet_levels,retain_percent):\n",
    "  '''\n",
    "  This helper function is the process of wavelet transforming\n",
    "  Input1: a channel of a multichannel image OR a grayscaled image\n",
    "  Input2: type of wavelet\n",
    "  Input3: wavelet level\n",
    "  Input4: feature retaining percentage\n",
    "  Output: a wavelet-transformed channel OR grayscaled image\n",
    "  '''\n",
    "  coeffs = pywt.wavedec2(image,wavelet= wavelet, level= wavelet_levels)\n",
    "  coeff_arr, coeff_slices = pywt.coeffs_to_array(coeffs)\n",
    "  Csort = np.sort(np.abs(coeff_arr.reshape(-1)))\n",
    "  thresh_w = Csort[int(np.floor((1-retain_percent)*len(Csort)))]\n",
    "  ind_w = np.abs(coeff_arr) > thresh_w\n",
    "  Cfilt = coeff_arr * ind_w\n",
    "  coeffs_filt = pywt.array_to_coeffs(Cfilt, coeff_slices, output_format=\"wavedec2\")\n",
    "  recon_image = pywt.waverec2(coeffs_filt, wavelet= wavelet)\n",
    "  return recon_image\n",
    "\n",
    "def wavelet_transform(image,wavelet,level,retain_percent):\n",
    "  '''\n",
    "  This function is to apply wavelet transform to each channel of the image data\n",
    "  Input1: an image with shape (32,32,3)\n",
    "  Input2: type of wavelet\n",
    "  Input3: wavelet level\n",
    "  Input4: feature retaining percentage\n",
    "  Output: a wavelet-transformed image with shape (32,32,3)\n",
    "  '''\n",
    "  output = np.empty_like(image)\n",
    "  for c in range(image.shape[-1]):\n",
    "    output[..., c] = _wavelet(image[..., c], wavelet, level, retain_percent)\n",
    "  return output\n",
    "\n",
    "def preprocess_wavelet(images_data,retain_percent,wavelet=\"db1\",level=4):\n",
    "  '''\n",
    "  This function is to apply wavelet transform to images data\n",
    "\n",
    "  Input1: images data in shape (N,32,32,3)\n",
    "  Input2: feature retaining percentage in decimals (50% = 0.5)\n",
    "  Input3: wavelet_level (optional,by default 4)\n",
    "  Input4: type of wavelet (optional,by default Daubechies1)\n",
    "\n",
    "  Output: wavelet-transformed images data in shape (N,32,32,3)\n",
    "  '''\n",
    "  X_data_wavelet = []\n",
    "\n",
    "  for i in images_data:\n",
    "    w_compressed = wavelet_transform(i,wavelet,level,retain_percent)\n",
    "    X_data_wavelet.append(w_compressed)\n",
    "\n",
    "  #Change the list into an array\n",
    "  X_data_wavelet = np.array(X_data_wavelet)\n",
    "\n",
    "  return X_data_wavelet"
   ]
  },
  {
   "cell_type": "markdown",
   "metadata": {
    "id": "pLsM_lDNnmbH"
   },
   "source": [
    "## ZCA whitening"
   ]
  },
  {
   "cell_type": "code",
   "execution_count": 10,
   "metadata": {
    "ExecuteTime": {
     "end_time": "2020-11-17T02:03:50.599359Z",
     "start_time": "2020-11-17T02:03:50.587897Z"
    },
    "executionInfo": {
     "elapsed": 733,
     "status": "ok",
     "timestamp": 1605426087071,
     "user": {
      "displayName": "William Ryan",
      "photoUrl": "",
      "userId": "11732311540995836980"
     },
     "user_tz": -660
    },
    "id": "JKkQGTtNnlpl"
   },
   "outputs": [],
   "source": [
    "def zca(data_train, data_test, epsilon = 0.1, Norm=True,Centre=True):\n",
    "  '''\n",
    "  This function takes in the data_train and data_test variables as they were originally defined\n",
    "  and returns train and test Zero Component Analysis whitened matrices of the same shape as our\n",
    "  inputs.\n",
    "  '''\n",
    "\n",
    "  # Normalise\n",
    "    \n",
    "  if Norm == True:\n",
    "      data_train = data_train/255\n",
    "      data_test = data_test/255\n",
    "  \n",
    "  # Centre (for the covariance matrix)\n",
    "  \n",
    "  if Centre == True:\n",
    "      mean = data_train.mean(axis=0)\n",
    "      data_train = data_train - mean\n",
    "      data_test = data_test - mean\n",
    "  \n",
    "  # Covariance Matrix\n",
    "  \n",
    "  covariance_matrix = np.cov(data_train, rowvar=False)\n",
    "  covariance_matrix_test = np.cov(data_test, rowvar=False)\n",
    "  \n",
    "  # SVD of Covariance Matrix\n",
    "  \n",
    "  U,S,V = np.linalg.svd(covariance_matrix)\n",
    "  Utest,Stest,Vtest = np.linalg.svd(covariance_matrix_test)\n",
    "  \n",
    "\n",
    "  # ZCA Transform\n",
    "  \n",
    "  # Epsilon is a hyper parameter we can tune, epsilon is 0.1 by default\n",
    "  \n",
    "  data_train_ZCA = U.dot(np.diag(1.0/np.sqrt(S + epsilon))).dot(U.T).dot(data_train.T).T\n",
    "\n",
    "  data_test_ZCA = Utest.dot(np.diag(1.0/np.sqrt(Stest + epsilon))).dot(Utest.T).dot(data_test.T).T\n",
    "\n",
    "  # Normalise the ZCA result into the range 0 and 1\n",
    "  \n",
    "  if Norm == True:\n",
    "      data_train_ZCA = (data_train_ZCA - data_train_ZCA.min()) / (data_train_ZCA.max() - data_train_ZCA.min())\n",
    "  \n",
    "      data_test_ZCA = (data_test_ZCA - data_test_ZCA.min()) / (data_test_ZCA.max() - data_test_ZCA.min())\n",
    "  \n",
    "  \n",
    "  return data_train_ZCA, data_test_ZCA"
   ]
  },
  {
   "cell_type": "markdown",
   "metadata": {
    "id": "V9VuEkbOcorE"
   },
   "source": [
    "# Run the pre-processing and split the data"
   ]
  },
  {
   "cell_type": "code",
   "execution_count": 11,
   "metadata": {
    "ExecuteTime": {
     "end_time": "2020-11-17T02:08:21.365237Z",
     "start_time": "2020-11-17T02:03:54.878231Z"
    },
    "id": "fd_M89j_sgic"
   },
   "outputs": [],
   "source": [
    "# Standardisation of data\n",
    "data_train_standard, data_test_standard = standardise(data_train,data_test)\n",
    "data_train_standard = data_to_images(data_train_standard)\n",
    "data_test_standard = data_to_images(data_test_standard)\n",
    "\n",
    "# Wavelet transform of data\n",
    "data_train_wavelet = preprocess_wavelet(data_train_standard,0.5)\n",
    "data_test_wavelet = preprocess_wavelet(data_test_standard, 0.5)\n",
    "\n",
    "# ZCA transform of data\n",
    "data_train_ZCA, data_test_ZCA = zca(data_train, data_test)\n",
    "data_train_ZCA = data_to_images(data_train_ZCA)\n",
    "data_test_ZCA = data_to_images(data_test_ZCA)\n",
    "\n",
    "# Split datasets into Train, Validate, and Test sets\n",
    "x_train_std = data_train_standard[:33000]\n",
    "x_test_std = data_test_standard\n",
    "x_val_std = data_train_standard[33000:]\n",
    "\n",
    "x_train_wavelet = data_train_wavelet[:33000]\n",
    "x_test_wavelet = data_test_wavelet\n",
    "x_val_wavelet = data_train_wavelet[33000:]\n",
    "\n",
    "x_train_zca = data_to_images(data_train_ZCA[:33000])\n",
    "x_test_zca = data_to_images(data_test_ZCA)\n",
    "x_val_zca = data_to_images(data_train_ZCA[33000:])\n",
    "\n",
    "# Splitting the labels and encoding as 'one-hot vector'\n",
    "y_train_cnn = coarse_labels_train[:33000]\n",
    "y_test_cnn = coarse_labels_test\n",
    "y_val_cnn = coarse_labels_train[33000:]\n",
    "num_classes = 20\n",
    "y_train_cnn = keras.utils.to_categorical(y_train_cnn, num_classes)\n",
    "y_test_cnn = keras.utils.to_categorical(y_test_cnn, num_classes)\n",
    "y_val_cnn = keras.utils. to_categorical(y_val_cnn, num_classes)"
   ]
  },
  {
   "cell_type": "code",
   "execution_count": null,
   "metadata": {
    "id": "WE6Jhi8lugDW"
   },
   "outputs": [],
   "source": []
  },
  {
   "cell_type": "code",
   "execution_count": 12,
   "metadata": {
    "ExecuteTime": {
     "end_time": "2020-11-17T02:09:16.587448Z",
     "start_time": "2020-11-17T02:09:16.316148Z"
    },
    "colab": {
     "base_uri": "https://localhost:8080/",
     "height": 295
    },
    "executionInfo": {
     "elapsed": 856,
     "status": "ok",
     "timestamp": 1605424289942,
     "user": {
      "displayName": "William Ryan",
      "photoUrl": "",
      "userId": "11732311540995836980"
     },
     "user_tz": -660
    },
    "id": "yGXF13vcqAIa",
    "outputId": "2748211c-1f93-4517-a86d-ce6913ae1370"
   },
   "outputs": [
    {
     "data": {
      "image/png": "[encoded data removed]",
      "text/plain": [
       "<Figure size 432x288 with 1 Axes>"
      ]
     },
     "metadata": {
      "needs_background": "light"
     },
     "output_type": "display_data"
    }
   ],
   "source": [
    "show(x_train_zca, 76)"
   ]
  },
  {
   "cell_type": "code",
   "execution_count": 13,
   "metadata": {
    "ExecuteTime": {
     "end_time": "2020-11-17T02:09:19.569372Z",
     "start_time": "2020-11-17T02:09:19.407513Z"
    },
    "colab": {
     "base_uri": "https://localhost:8080/",
     "height": 295
    },
    "executionInfo": {
     "elapsed": 784,
     "status": "ok",
     "timestamp": 1605424295890,
     "user": {
      "displayName": "William Ryan",
      "photoUrl": "",
      "userId": "11732311540995836980"
     },
     "user_tz": -660
    },
    "id": "w7XaTIDzqFrX",
    "outputId": "8950c587-78fe-450c-c6f8-97f93879ab8c"
   },
   "outputs": [
    {
     "data": {
      "image/png": "[encoded data removed]",
      "text/plain": [
       "<Figure size 432x288 with 1 Axes>"
      ]
     },
     "metadata": {
      "needs_background": "light"
     },
     "output_type": "display_data"
    }
   ],
   "source": [
    "show(x_train_std, 76)"
   ]
  },
  {
   "cell_type": "code",
   "execution_count": 14,
   "metadata": {
    "ExecuteTime": {
     "end_time": "2020-11-17T02:09:22.097790Z",
     "start_time": "2020-11-17T02:09:21.941271Z"
    },
    "colab": {
     "base_uri": "https://localhost:8080/",
     "height": 295
    },
    "executionInfo": {
     "elapsed": 606,
     "status": "ok",
     "timestamp": 1605424302070,
     "user": {
      "displayName": "William Ryan",
      "photoUrl": "",
      "userId": "11732311540995836980"
     },
     "user_tz": -660
    },
    "id": "KYrS4YnnqH5M",
    "outputId": "71cde714-b48e-4f93-c8f6-a1f90f1eb5ef"
   },
   "outputs": [
    {
     "data": {
      "image/png": "[encoded data removed]",
      "text/plain": [
       "<Figure size 432x288 with 1 Axes>"
      ]
     },
     "metadata": {
      "needs_background": "light"
     },
     "output_type": "display_data"
    }
   ],
   "source": [
    "show(x_train_wavelet,76)"
   ]
  },
  {
   "cell_type": "markdown",
   "metadata": {
    "id": "lN1WFd14cSfV"
   },
   "source": [
    "# Class for Convolutional Neural Network archtitecture "
   ]
  },
  {
   "cell_type": "code",
   "execution_count": 137,
   "metadata": {
    "ExecuteTime": {
     "end_time": "2020-11-18T03:35:18.039041Z",
     "start_time": "2020-11-18T03:35:17.873798Z"
    },
    "executionInfo": {
     "elapsed": 756,
     "status": "ok",
     "timestamp": 1605425521976,
     "user": {
      "displayName": "William Ryan",
      "photoUrl": "",
      "userId": "11732311540995836980"
     },
     "user_tz": -660
    },
    "id": "8ydkP1RHcQed"
   },
   "outputs": [],
   "source": [
    "class Conv_Neural_Net:\n",
    "\n",
    "  def __init__(self, num_classes=20, learn_r=0.001, epochs=30, batch_size=32, Verbose=0, optimiZer='RMSprop'):\n",
    "    self.classifier = Sequential()\n",
    "    self.number_of_classes = num_classes\n",
    "    self.learning_rate = learn_r\n",
    "    self.Epochs = epochs\n",
    "    self.Batch_Size = batch_size\n",
    "    self.verbose = Verbose\n",
    "    self.opt = optimiZer\n",
    "\n",
    "    # Convolutional Layer 1\n",
    "    self.classifier.add(Conv2D(32, kernel_size=(3,3), strides=(1,1), padding='same',input_shape=x_train_cnn.shape[1:]))\n",
    "    self.classifier.add(Activation('relu'))\n",
    "    self.classifier.add(BatchNormalization())\n",
    "    self.classifier.add(MaxPooling2D(pool_size=(2, 2)))\n",
    "\n",
    "    # Convolutional Layer 2\n",
    "    self.classifier.add(Conv2D(32, (3,3), strides=(1,1),padding='same'))\n",
    "    self.classifier.add(Activation('relu'))\n",
    "    self.classifier.add(BatchNormalization())\n",
    "    self.classifier.add(MaxPooling2D(pool_size=(2, 2)))\n",
    "\n",
    "    # Convolutional Layer 3\n",
    "    self.classifier.add(Conv2D(64, (3,3), strides=(1,1), padding='same'))\n",
    "    self.classifier.add(Activation('relu'))\n",
    "    self.classifier.add(BatchNormalization())\n",
    "    self.classifier.add(MaxPooling2D(pool_size=(2, 2)))\n",
    "\n",
    "    # Convolutional Layer 4\n",
    "    self.classifier.add(Conv2D(64, (3,3), strides=(1,1), padding='same'))\n",
    "    self.classifier.add(Activation('relu'))\n",
    "    self.classifier.add(BatchNormalization())\n",
    "    self.classifier.add(MaxPooling2D(pool_size=(2, 2)))\n",
    "    \n",
    "    # Flatten\n",
    "    self.classifier.add(Flatten())\n",
    "\n",
    "    # Dense Layer 1\n",
    "    self.classifier.add(Dense(512))\n",
    "    self.classifier.add(Activation('relu'))\n",
    "    self.classifier.add(Dropout(0.4))\n",
    "    self.classifier.add(BatchNormalization())\n",
    "    \n",
    "    # Output Layer\n",
    "    self.classifier.add(Dense(self.number_of_classes))\n",
    "    self.classifier.add(Activation('relu'))\n",
    "    self.classifier.add(Dropout(0.4))\n",
    "    self.classifier.add(BatchNormalization())\n",
    "    # Softmax Activation \n",
    "    self.classifier.add(Activation('softmax'))\n",
    "\n",
    "    # RMSprop optimizer\n",
    "    if self.opt == 'RMSprop':\n",
    "        OPT = keras.optimizers.RMSprop(lr=self.learning_rate, decay=1e-6)\n",
    "    elif self.opt == 'Adam':\n",
    "        OPT = keras.optimizers.Adam(lr=self.learning_rate)\n",
    "\n",
    "    # Compile our classifier\n",
    "    self.classifier.compile(loss='categorical_crossentropy', optimizer=OPT, metrics=['accuracy'])\n",
    "\n",
    "  def fit_conv_neural_net(self, train_data, train_labels, val_data, val_labels):\n",
    "    return self.classifier.fit(train_data, train_labels, batch_size=self.Batch_Size, epochs=self.Epochs,\n",
    "              validation_data=(val_data, val_labels), shuffle=True, verbose=self.verbose)\n",
    "  \n",
    "  def predict(self,test_data):\n",
    "    probabilities = self.classifier.predict(test_data)\n",
    "    predictions = probabilities.argmax(axis=1)\n",
    "    return predictions\n",
    "    \n",
    "  def return_accuracy(self,test_data, test_labels):\n",
    "    accuracy = self.classifier.evaluate(test_data, test_labels, batch_size=32, verbose=1)\n",
    "    print(\"\\nTest accuracy is {}%\".format(100.0*accuracy[1]))\n",
    "    return accuracy\n",
    "\n",
    "  def classifier_summary(self):\n",
    "    return self.classifier.summary(line_length=None, positions=None, print_fn=None)"
   ]
  },
  {
   "cell_type": "markdown",
   "metadata": {
    "id": "ssWNhFEuc0UM"
   },
   "source": [
    "# Example Code"
   ]
  },
  {
   "cell_type": "code",
   "execution_count": 169,
   "metadata": {
    "ExecuteTime": {
     "end_time": "2020-11-18T09:06:03.097328Z",
     "start_time": "2020-11-18T09:06:03.000992Z"
    },
    "colab": {
     "base_uri": "https://localhost:8080/",
     "height": 224
    },
    "executionInfo": {
     "elapsed": 787,
     "status": "error",
     "timestamp": 1605425525776,
     "user": {
      "displayName": "William Ryan",
      "photoUrl": "",
      "userId": "11732311540995836980"
     },
     "user_tz": -660
    },
    "id": "1gJK1umkc2_3",
    "outputId": "39422aa5-db5a-4a2c-ddac-381ed913030e"
   },
   "outputs": [
    {
     "data": {
      "text/plain": [
       "\"\\n### Example code ###\\nstart_time = time.time()\\n\\nx_train_cnn = x_train_zca.astype('float32')\\ny_train_cnn = y_train_cnn\\n\\nx_val_cnn = x_val_zca.astype('float32')\\ny_val_cnn = y_val_cnn\\n\\nx_test_cnn = x_test_zca.astype('float32')\\ny_test_cnn = y_test_cnn\\n\\nCNN = Conv_Neural_Net(learn_r=0.001,epochs=1,num_classes=20, batch_size=32, Verbose=0, optimiZer='Adam')\\n\\nCNN.fit_conv_neural_net(x_train_cnn, y_train_cnn, x_val_cnn, y_val_cnn)\\n\\nCNN.return_accuracy(x_test_cnn, y_test_cnn)\\n\\ny_pred = CNN.predict(x_test_cnn)\\n\\nend_time = time.time() - start_time\\nprint(end_time)\\n\""
      ]
     },
     "execution_count": 169,
     "metadata": {},
     "output_type": "execute_result"
    }
   ],
   "source": [
    "'''\n",
    "### Example code ###\n",
    "start_time = time.time()\n",
    "\n",
    "x_train_cnn = x_train_zca.astype('float32')\n",
    "y_train_cnn = y_train_cnn\n",
    "\n",
    "x_val_cnn = x_val_zca.astype('float32')\n",
    "y_val_cnn = y_val_cnn\n",
    "\n",
    "x_test_cnn = x_test_zca.astype('float32')\n",
    "y_test_cnn = y_test_cnn\n",
    "\n",
    "CNN = Conv_Neural_Net(learn_r=0.001,epochs=1,num_classes=20, batch_size=32, Verbose=0, optimiZer='Adam')\n",
    "\n",
    "CNN.fit_conv_neural_net(x_train_cnn, y_train_cnn, x_val_cnn, y_val_cnn)\n",
    "\n",
    "CNN.return_accuracy(x_test_cnn, y_test_cnn)\n",
    "\n",
    "y_pred = CNN.predict(x_test_cnn)\n",
    "\n",
    "end_time = time.time() - start_time\n",
    "print(end_time)\n",
    "'''"
   ]
  },
  {
   "cell_type": "code",
   "execution_count": 71,
   "metadata": {
    "ExecuteTime": {
     "end_time": "2020-11-17T04:19:52.707135Z",
     "start_time": "2020-11-17T04:19:52.697547Z"
    },
    "scrolled": true
   },
   "outputs": [
    {
     "name": "stdout",
     "output_type": "stream",
     "text": [
      "Model: \"sequential_7\"\n",
      "_________________________________________________________________\n",
      "Layer (type)                 Output Shape              Param #   \n",
      "=================================================================\n",
      "conv2d_25 (Conv2D)           (None, 32, 32, 32)        896       \n",
      "_________________________________________________________________\n",
      "activation_43 (Activation)   (None, 32, 32, 32)        0         \n",
      "_________________________________________________________________\n",
      "batch_normalization_37 (Batc (None, 32, 32, 32)        128       \n",
      "_________________________________________________________________\n",
      "max_pooling2d_25 (MaxPooling (None, 16, 16, 32)        0         \n",
      "_________________________________________________________________\n",
      "conv2d_26 (Conv2D)           (None, 16, 16, 32)        9248      \n",
      "_________________________________________________________________\n",
      "activation_44 (Activation)   (None, 16, 16, 32)        0         \n",
      "_________________________________________________________________\n",
      "batch_normalization_38 (Batc (None, 16, 16, 32)        128       \n",
      "_________________________________________________________________\n",
      "max_pooling2d_26 (MaxPooling (None, 8, 8, 32)          0         \n",
      "_________________________________________________________________\n",
      "conv2d_27 (Conv2D)           (None, 8, 8, 64)          18496     \n",
      "_________________________________________________________________\n",
      "activation_45 (Activation)   (None, 8, 8, 64)          0         \n",
      "_________________________________________________________________\n",
      "batch_normalization_39 (Batc (None, 8, 8, 64)          256       \n",
      "_________________________________________________________________\n",
      "max_pooling2d_27 (MaxPooling (None, 4, 4, 64)          0         \n",
      "_________________________________________________________________\n",
      "conv2d_28 (Conv2D)           (None, 4, 4, 64)          36928     \n",
      "_________________________________________________________________\n",
      "activation_46 (Activation)   (None, 4, 4, 64)          0         \n",
      "_________________________________________________________________\n",
      "batch_normalization_40 (Batc (None, 4, 4, 64)          256       \n",
      "_________________________________________________________________\n",
      "max_pooling2d_28 (MaxPooling (None, 2, 2, 64)          0         \n",
      "_________________________________________________________________\n",
      "flatten_7 (Flatten)          (None, 256)               0         \n",
      "_________________________________________________________________\n",
      "dense_13 (Dense)             (None, 512)               131584    \n",
      "_________________________________________________________________\n",
      "activation_47 (Activation)   (None, 512)               0         \n",
      "_________________________________________________________________\n",
      "dropout_13 (Dropout)         (None, 512)               0         \n",
      "_________________________________________________________________\n",
      "batch_normalization_41 (Batc (None, 512)               2048      \n",
      "_________________________________________________________________\n",
      "dense_14 (Dense)             (None, 20)                10260     \n",
      "_________________________________________________________________\n",
      "activation_48 (Activation)   (None, 20)                0         \n",
      "_________________________________________________________________\n",
      "dropout_14 (Dropout)         (None, 20)                0         \n",
      "_________________________________________________________________\n",
      "batch_normalization_42 (Batc (None, 20)                80        \n",
      "_________________________________________________________________\n",
      "activation_49 (Activation)   (None, 20)                0         \n",
      "=================================================================\n",
      "Total params: 210,308\n",
      "Trainable params: 208,860\n",
      "Non-trainable params: 1,448\n",
      "_________________________________________________________________\n"
     ]
    }
   ],
   "source": [
    "#CNN.classifier_summary()"
   ]
  },
  {
   "cell_type": "markdown",
   "metadata": {},
   "source": [
    "# Experimental Setting"
   ]
  },
  {
   "cell_type": "code",
   "execution_count": 120,
   "metadata": {
    "ExecuteTime": {
     "end_time": "2020-11-18T01:45:18.558907Z",
     "start_time": "2020-11-18T01:45:18.475837Z"
    }
   },
   "outputs": [],
   "source": [
    "def accuracy(predictions, label_test):\n",
    "    return accuracy_score(label_test,predictions)\n",
    "\n",
    "def recall(predictions, label_test):\n",
    "    return recall_score(label_test,predictions,average='macro')  \n",
    "\n",
    "def precision(predictions, label_test):  \n",
    "    return precision_score(label_test,predictions,average='macro') \n",
    "\n",
    "def CONFUSION_matrix(predictions, label_test):\n",
    "    return confusion_matrix(label_test,predictions)"
   ]
  },
  {
   "cell_type": "markdown",
   "metadata": {},
   "source": [
    "### Standardised Dataset"
   ]
  },
  {
   "cell_type": "code",
   "execution_count": 93,
   "metadata": {
    "ExecuteTime": {
     "end_time": "2020-11-17T06:40:48.210419Z",
     "start_time": "2020-11-17T05:23:53.533252Z"
    }
   },
   "outputs": [
    {
     "name": "stdout",
     "output_type": "stream",
     "text": [
      "Step:  1 TRAIN:  (45000,)  | TEST:  (5000,)\n",
      "Step:  2 TRAIN:  (45000,)  | TEST:  (5000,)\n",
      "Step:  3 TRAIN:  (45000,)  | TEST:  (5000,)\n",
      "Step:  4 TRAIN:  (45000,)  | TEST:  (5000,)\n",
      "Step:  5 TRAIN:  (45000,)  | TEST:  (5000,)\n",
      "Step:  6 TRAIN:  (45000,)  | TEST:  (5000,)\n",
      "Step:  7 TRAIN:  (45000,)  | TEST:  (5000,)\n",
      "Step:  8 TRAIN:  (45000,)  | TEST:  (5000,)\n",
      "Step:  9 TRAIN:  (45000,)  | TEST:  (5000,)\n",
      "Step:  10 TRAIN:  (45000,)  | TEST:  (5000,)\n"
     ]
    }
   ],
   "source": [
    "'''start_time_CNN_std = time.time()\n",
    "kf = KFold(n_splits=10)\n",
    "\n",
    "test_set = data_test_standard\n",
    "test_labels = coarse_labels_test_array\n",
    "\n",
    "cv_accuracy_list_std = []\n",
    "cv_recall_list_std = []\n",
    "cv_precision_list_std = []\n",
    "\n",
    "i = 1\n",
    "for tr_i, ts_i in kf.split(data_train_standard):\n",
    "    \n",
    "    # 1. Getting through the Kfold configuration\n",
    "    print(\"Step: \", i, \"TRAIN: \", tr_i.shape, \" | TEST: \", ts_i.shape)\n",
    "    X_tr, X_ts = data_train_standard[tr_i], data_train_standard[ts_i]\n",
    "    y_tr, y_ts = coarse_labels_train_array[tr_i], coarse_labels_train_array[ts_i]\n",
    "    \n",
    "    y_tr_OHV = keras.utils.to_categorical(y_tr, 20) # One-Hot-Vector Encoding\n",
    "    y_ts_OHV = keras.utils.to_categorical(y_ts, 20) # One-Hot-Vector Encoding\n",
    "    \n",
    "    # 1. Create a CNN classifier\n",
    "    CNN_std = Conv_Neural_Net(learn_r=0.001,epochs=5,num_classes=20, batch_size=32, Verbose=0)\n",
    "\n",
    "    # 2. Training the model using the splits from the Kfold step\n",
    "    CNN_std.fit_conv_neural_net(X_tr, y_tr_OHV, X_ts, y_ts_OHV)\n",
    "\n",
    "    #Predict the response for test dataset\n",
    "    y_pred = CNN_std.predict(test_set)\n",
    "    cv_accuracy_list_std.append(accuracy(y_pred,test_labels))\n",
    "    cv_recall_list_std.append(recall(y_pred,test_labels))\n",
    "    cv_precision_list_std.append(precision(y_pred,test_labels))\n",
    "    i += 1\n",
    "    del CNN_std, X_tr, X_ts, y_tr, y_ts, y_pred, y_tr_OHV, y_ts_OHV\n",
    "\n",
    "time_CNN_std = time.time() - start_time_CNN_std'''"
   ]
  },
  {
   "cell_type": "code",
   "execution_count": 94,
   "metadata": {
    "ExecuteTime": {
     "end_time": "2020-11-17T06:40:48.326234Z",
     "start_time": "2020-11-17T06:40:48.283852Z"
    }
   },
   "outputs": [
    {
     "name": "stdout",
     "output_type": "stream",
     "text": [
      "Step: i TRAIN: (50000,) | TEST: (10000,)\n"
     ]
    }
   ],
   "source": [
    "# The above print out is a typo. It should have the following structure.\n",
    "print('Step: i TRAIN: (50000,) | TEST: (10000,)')\n",
    "\n",
    "# This is because for CNN, we use the 10-fold train:val splits to train the network,\n",
    "# and then we use the test set to report the results."
   ]
  },
  {
   "cell_type": "code",
   "execution_count": 95,
   "metadata": {
    "ExecuteTime": {
     "end_time": "2020-11-17T06:43:39.147860Z",
     "start_time": "2020-11-17T06:43:38.309011Z"
    }
   },
   "outputs": [
    {
     "data": {
      "text/plain": [
       "<matplotlib.lines.Line2D at 0x1c11feb4d0>"
      ]
     },
     "execution_count": 95,
     "metadata": {},
     "output_type": "execute_result"
    },
    {
     "data": {
      "image/png": "[encoded data removed]",
      "text/plain": [
       "<Figure size 432x288 with 1 Axes>"
      ]
     },
     "metadata": {
      "needs_background": "light"
     },
     "output_type": "display_data"
    }
   ],
   "source": [
    "'''plt.scatter(range(1, 11), cv_accuracy_list_std)\n",
    "plt.xlabel(\"Number of steps\")\n",
    "plt.ylabel('Accuracy, %')\n",
    "plt.axhline(linestyle='--', color='red', y=np.average(cv_accuracy_list_std))'''"
   ]
  },
  {
   "cell_type": "code",
   "execution_count": 96,
   "metadata": {
    "ExecuteTime": {
     "end_time": "2020-11-17T06:46:02.171748Z",
     "start_time": "2020-11-17T06:46:02.158487Z"
    }
   },
   "outputs": [
    {
     "data": {
      "text/plain": [
       "4614.447829961777"
      ]
     },
     "execution_count": 96,
     "metadata": {},
     "output_type": "execute_result"
    }
   ],
   "source": [
    "'''time_CNN_std'''"
   ]
  },
  {
   "cell_type": "code",
   "execution_count": 111,
   "metadata": {
    "ExecuteTime": {
     "end_time": "2020-11-17T23:55:40.804984Z",
     "start_time": "2020-11-17T23:55:40.770693Z"
    }
   },
   "outputs": [
    {
     "name": "stdout",
     "output_type": "stream",
     "text": [
      "Recall:  0.4582\n",
      "Accuracy:  0.4582\n",
      "Precision 0.4582\n"
     ]
    }
   ],
   "source": [
    "'''print('Recall: ',np.average(cv_recall_list_std))\n",
    "print('Accuracy: ',np.average(cv_accuracy_list_std))\n",
    "print('Precision',np.average(cv_precision_list_std))'''"
   ]
  },
  {
   "cell_type": "markdown",
   "metadata": {
    "ExecuteTime": {
     "end_time": "2020-11-17T02:40:06.323617Z",
     "start_time": "2020-11-17T02:40:06.217527Z"
    },
    "colab": {
     "base_uri": "https://localhost:8080/"
    },
    "executionInfo": {
     "elapsed": 663284,
     "status": "ok",
     "timestamp": 1605410635839,
     "user": {
      "displayName": "William Ryan",
      "photoUrl": "",
      "userId": "11732311540995836980"
     },
     "user_tz": -660
    },
    "id": "3F4bf1RBdgrJ",
    "outputId": "188e6f86-b5b5-4ec8-a327-088120bc9c2f"
   },
   "source": [
    "### Wavelet Transformed Dataset"
   ]
  },
  {
   "cell_type": "code",
   "execution_count": 97,
   "metadata": {
    "ExecuteTime": {
     "end_time": "2020-11-17T08:02:24.329235Z",
     "start_time": "2020-11-17T06:47:02.339615Z"
    }
   },
   "outputs": [
    {
     "name": "stdout",
     "output_type": "stream",
     "text": [
      "Step:  1 TRAIN:  (50000, 32, 32, 3)  | TEST:  (10000, 32, 32, 3)\n",
      "Step:  2 TRAIN:  (50000, 32, 32, 3)  | TEST:  (10000, 32, 32, 3)\n",
      "Step:  3 TRAIN:  (50000, 32, 32, 3)  | TEST:  (10000, 32, 32, 3)\n",
      "Step:  4 TRAIN:  (50000, 32, 32, 3)  | TEST:  (10000, 32, 32, 3)\n",
      "Step:  5 TRAIN:  (50000, 32, 32, 3)  | TEST:  (10000, 32, 32, 3)\n",
      "Step:  6 TRAIN:  (50000, 32, 32, 3)  | TEST:  (10000, 32, 32, 3)\n",
      "Step:  7 TRAIN:  (50000, 32, 32, 3)  | TEST:  (10000, 32, 32, 3)\n",
      "Step:  8 TRAIN:  (50000, 32, 32, 3)  | TEST:  (10000, 32, 32, 3)\n",
      "Step:  9 TRAIN:  (50000, 32, 32, 3)  | TEST:  (10000, 32, 32, 3)\n",
      "Step:  10 TRAIN:  (50000, 32, 32, 3)  | TEST:  (10000, 32, 32, 3)\n"
     ]
    }
   ],
   "source": [
    "'''start_time_CNN_wav = time.time()\n",
    "kf = KFold(n_splits=10)\n",
    "\n",
    "test_set = data_test_wavelet\n",
    "test_labels = coarse_labels_test_array\n",
    "\n",
    "cv_accuracy_list_wav = []\n",
    "cv_recall_list_wav = []\n",
    "cv_precision_list_wav = []\n",
    "\n",
    "i = 1\n",
    "for tr_i, ts_i in kf.split(data_train_wavelet):\n",
    "    \n",
    "    # 1. Getting through the Kfold configuration\n",
    "    print(\"Step: \", i, \"TRAIN: \", data_train_wavelet.shape, \" | TEST: \", test_set.shape)\n",
    "    X_tr, X_ts = data_train_wavelet[tr_i], data_train_wavelet[ts_i]\n",
    "    y_tr, y_ts = coarse_labels_train_array[tr_i], coarse_labels_train_array[ts_i]\n",
    "    \n",
    "    y_tr_OHV = keras.utils.to_categorical(y_tr, 20) # One-Hot-Vector Encoding\n",
    "    y_ts_OHV = keras.utils.to_categorical(y_ts, 20) # One-Hot-Vector Encoding\n",
    "    \n",
    "    # 1. Create a CNN classifier\n",
    "    CNN_wav = Conv_Neural_Net(learn_r=0.001,epochs=5,num_classes=20, batch_size=32, Verbose=0)\n",
    "\n",
    "    # 2. Training the model using the splits from the Kfold step\n",
    "    CNN_wav.fit_conv_neural_net(X_tr, y_tr_OHV, X_ts, y_ts_OHV)\n",
    "\n",
    "    #Predict the response for test dataset\n",
    "    y_pred = CNN_wav.predict(test_set)\n",
    "    cv_accuracy_list_wav.append(accuracy(y_pred,test_labels))\n",
    "    cv_recall_list_wav.append(recall(y_pred,test_labels))\n",
    "    cv_precision_list_wav.append(precision(y_pred,test_labels))\n",
    "    i += 1\n",
    "    del CNN_wav, X_tr, X_ts, y_tr, y_ts, y_pred, y_tr_OHV, y_ts_OHV\n",
    "\n",
    "time_CNN_wav = time.time() - start_time_CNN_wav'''"
   ]
  },
  {
   "cell_type": "code",
   "execution_count": 98,
   "metadata": {
    "ExecuteTime": {
     "end_time": "2020-11-17T08:06:41.552162Z",
     "start_time": "2020-11-17T08:06:40.065097Z"
    }
   },
   "outputs": [
    {
     "data": {
      "text/plain": [
       "<matplotlib.lines.Line2D at 0x1c2d23aed0>"
      ]
     },
     "execution_count": 98,
     "metadata": {},
     "output_type": "execute_result"
    },
    {
     "data": {
      "image/png": "[encoded data removed]",
      "text/plain": [
       "<Figure size 432x288 with 1 Axes>"
      ]
     },
     "metadata": {
      "needs_background": "light"
     },
     "output_type": "display_data"
    }
   ],
   "source": [
    "'''plt.scatter(range(1, 11), cv_accuracy_list_wav)\n",
    "plt.xlabel(\"Number of steps\")\n",
    "plt.ylabel('Accuracy, %')\n",
    "plt.axhline(linestyle='--', color='red', y=np.average(cv_accuracy_list_wav))'''"
   ]
  },
  {
   "cell_type": "code",
   "execution_count": 99,
   "metadata": {
    "ExecuteTime": {
     "end_time": "2020-11-17T08:06:46.396385Z",
     "start_time": "2020-11-17T08:06:46.380454Z"
    }
   },
   "outputs": [
    {
     "data": {
      "text/plain": [
       "4521.741277933121"
      ]
     },
     "execution_count": 99,
     "metadata": {},
     "output_type": "execute_result"
    }
   ],
   "source": [
    "'''time_CNN_wav'''"
   ]
  },
  {
   "cell_type": "code",
   "execution_count": 110,
   "metadata": {
    "ExecuteTime": {
     "end_time": "2020-11-17T23:55:21.023597Z",
     "start_time": "2020-11-17T23:55:20.983480Z"
    }
   },
   "outputs": [
    {
     "name": "stdout",
     "output_type": "stream",
     "text": [
      "Recall:  0.45248\n",
      "Accuracy:  0.45248\n",
      "Precision 0.45248\n"
     ]
    }
   ],
   "source": [
    "'''print('Recall: ',np.average(cv_recall_list_wav))\n",
    "print('Accuracy: ',np.average(cv_accuracy_list_wav))\n",
    "print('Precision',np.average(cv_precision_list_wav))'''"
   ]
  },
  {
   "cell_type": "markdown",
   "metadata": {
    "ExecuteTime": {
     "end_time": "2020-11-17T02:46:46.078796Z",
     "start_time": "2020-11-17T02:46:46.075405Z"
    }
   },
   "source": [
    "### ZCA Transformed Dataset"
   ]
  },
  {
   "cell_type": "code",
   "execution_count": 102,
   "metadata": {
    "ExecuteTime": {
     "end_time": "2020-11-17T09:55:04.644530Z",
     "start_time": "2020-11-17T08:31:11.378801Z"
    }
   },
   "outputs": [
    {
     "name": "stdout",
     "output_type": "stream",
     "text": [
      "Step:  1 TRAIN:  (50000, 32, 32, 3)  | TEST:  (10000, 32, 32, 3)\n",
      "Step:  2 TRAIN:  (50000, 32, 32, 3)  | TEST:  (10000, 32, 32, 3)\n",
      "Step:  3 TRAIN:  (50000, 32, 32, 3)  | TEST:  (10000, 32, 32, 3)\n",
      "Step:  4 TRAIN:  (50000, 32, 32, 3)  | TEST:  (10000, 32, 32, 3)\n",
      "Step:  5 TRAIN:  (50000, 32, 32, 3)  | TEST:  (10000, 32, 32, 3)\n",
      "Step:  6 TRAIN:  (50000, 32, 32, 3)  | TEST:  (10000, 32, 32, 3)\n",
      "Step:  7 TRAIN:  (50000, 32, 32, 3)  | TEST:  (10000, 32, 32, 3)\n",
      "Step:  8 TRAIN:  (50000, 32, 32, 3)  | TEST:  (10000, 32, 32, 3)\n",
      "Step:  9 TRAIN:  (50000, 32, 32, 3)  | TEST:  (10000, 32, 32, 3)\n",
      "Step:  10 TRAIN:  (50000, 32, 32, 3)  | TEST:  (10000, 32, 32, 3)\n"
     ]
    }
   ],
   "source": [
    "'''start_time_CNN_zca = time.time()\n",
    "kf = KFold(n_splits=10)\n",
    "\n",
    "test_set = data_test_ZCA\n",
    "test_labels = coarse_labels_test_array\n",
    "\n",
    "cv_accuracy_list_zca = []\n",
    "cv_recall_list_zca = []\n",
    "cv_precision_list_zca = []\n",
    "\n",
    "i = 1\n",
    "for tr_i, ts_i in kf.split(data_train_ZCA):\n",
    "    \n",
    "    # 1. Getting through the Kfold configuration\n",
    "    print(\"Step: \", i, \"TRAIN: \", data_train_ZCA.shape, \" | TEST: \", test_set.shape)\n",
    "    X_tr, X_ts = data_train_ZCA[tr_i], data_train_ZCA[ts_i]\n",
    "    y_tr, y_ts = coarse_labels_train_array[tr_i], coarse_labels_train_array[ts_i]\n",
    "    \n",
    "    y_tr_OHV = keras.utils.to_categorical(y_tr, 20) # One-Hot-Vector Encoding\n",
    "    y_ts_OHV = keras.utils.to_categorical(y_ts, 20) # One-Hot-Vector Encoding\n",
    "    \n",
    "    # 1. Create a CNN classifier\n",
    "    CNN_zca = Conv_Neural_Net(learn_r=0.001,epochs=5,num_classes=20, batch_size=32, Verbose=0)\n",
    "\n",
    "    # 2. Training the model using the splits from the Kfold step\n",
    "    CNN_zca.fit_conv_neural_net(X_tr, y_tr_OHV, X_ts, y_ts_OHV)\n",
    "\n",
    "    #Predict the response for test dataset\n",
    "    y_pred = CNN_zca.predict(test_set)\n",
    "    cv_accuracy_list_zca.append(accuracy(y_pred,test_labels))\n",
    "    cv_recall_list_zca.append(recall(y_pred,test_labels))\n",
    "    cv_precision_list_zca.append(precision(y_pred,test_labels))\n",
    "    i += 1\n",
    "    del CNN_zca, X_tr, X_ts, y_tr, y_ts, y_pred, y_tr_OHV, y_ts_OHV\n",
    "\n",
    "time_CNN_zca = time.time() - start_time_CNN_zca'''"
   ]
  },
  {
   "cell_type": "code",
   "execution_count": 103,
   "metadata": {
    "ExecuteTime": {
     "end_time": "2020-11-17T09:55:46.940980Z",
     "start_time": "2020-11-17T09:55:46.029254Z"
    }
   },
   "outputs": [
    {
     "data": {
      "text/plain": [
       "<matplotlib.lines.Line2D at 0x1cbb6ce110>"
      ]
     },
     "execution_count": 103,
     "metadata": {},
     "output_type": "execute_result"
    },
    {
     "data": {
      "image/png": "[encoded data removed]",
      "text/plain": [
       "<Figure size 432x288 with 1 Axes>"
      ]
     },
     "metadata": {
      "needs_background": "light"
     },
     "output_type": "display_data"
    }
   ],
   "source": [
    "'''plt.scatter(range(1, 11), cv_accuracy_list_zca)\n",
    "plt.xlabel(\"Number of steps\")\n",
    "plt.ylabel('Accuracy, %')\n",
    "plt.axhline(linestyle='--', color='red', y=np.average(cv_accuracy_list_zca))'''"
   ]
  },
  {
   "cell_type": "code",
   "execution_count": 104,
   "metadata": {
    "ExecuteTime": {
     "end_time": "2020-11-17T09:55:53.259881Z",
     "start_time": "2020-11-17T09:55:53.252701Z"
    }
   },
   "outputs": [
    {
     "data": {
      "text/plain": [
       "5033.056449890137"
      ]
     },
     "execution_count": 104,
     "metadata": {},
     "output_type": "execute_result"
    }
   ],
   "source": [
    "'''time_CNN_zca'''"
   ]
  },
  {
   "cell_type": "code",
   "execution_count": 109,
   "metadata": {
    "ExecuteTime": {
     "end_time": "2020-11-17T23:55:01.760684Z",
     "start_time": "2020-11-17T23:55:01.658158Z"
    }
   },
   "outputs": [
    {
     "name": "stdout",
     "output_type": "stream",
     "text": [
      "Recall:  0.13147999999999999\n",
      "Accuracy:  0.13147999999999999\n",
      "Precision 0.13147999999999999\n"
     ]
    }
   ],
   "source": [
    "'''print('Recall: ',np.average(cv_recall_list_zca))\n",
    "print('Accuracy: ',np.average(cv_accuracy_list_zca))\n",
    "print('Precision',np.average(cv_precision_list_zca))'''"
   ]
  },
  {
   "cell_type": "markdown",
   "metadata": {},
   "source": [
    "# Tuning Learning Rate for gradient descent"
   ]
  },
  {
   "cell_type": "code",
   "execution_count": 116,
   "metadata": {
    "ExecuteTime": {
     "end_time": "2020-11-18T01:37:36.808433Z",
     "start_time": "2020-11-18T00:17:23.186927Z"
    }
   },
   "outputs": [],
   "source": [
    "'''learning_rates = [0.5, 0.1, 0.01, 0.005, 0.002, 0.001, 0.0008, 0.0005, 0.0001, 0.00001]\n",
    "\n",
    "\n",
    "start_time_CNN_LR = time.time()\n",
    "kf = KFold(n_splits=10)\n",
    "\n",
    "test_set = data_test_standard\n",
    "test_labels = coarse_labels_test_array\n",
    "\n",
    "LR_accuracy_list_std = []\n",
    "LR_recall_list_std = []\n",
    "LR_precision_list_std = []\n",
    "\n",
    "i = 0\n",
    "for tr_i, ts_i in kf.split(data_train_standard):\n",
    "    LR = learning_rates[i]\n",
    "    # 1. Getting through the Kfold configuration\n",
    "    #print(\"Step: \", i, \"TRAIN: \", tr_i.shape, \" | TEST: \", ts_i.shape)\n",
    "    X_tr, X_ts = data_train_standard[tr_i], data_train_standard[ts_i]\n",
    "    y_tr, y_ts = coarse_labels_train_array[tr_i], coarse_labels_train_array[ts_i]\n",
    "    \n",
    "    y_tr_OHV = keras.utils.to_categorical(y_tr, 20) # One-Hot-Vector Encoding\n",
    "    y_ts_OHV = keras.utils.to_categorical(y_ts, 20) # One-Hot-Vector Encoding\n",
    "    \n",
    "    # 1. Create a CNN classifier\n",
    "    CNN_LR = Conv_Neural_Net(learn_r=LR,epochs=5,num_classes=20, batch_size=32, Verbose=0)\n",
    "\n",
    "    # 2. Training the model using the splits from the Kfold step\n",
    "    CNN_LR.fit_conv_neural_net(X_tr, y_tr_OHV, X_ts, y_ts_OHV)\n",
    "\n",
    "    #Predict the response for test dataset\n",
    "    y_pred = CNN_LR.predict(test_set)\n",
    "    LR_accuracy_list_std.append(accuracy(y_pred,test_labels))\n",
    "    LR_recall_list_std.append(recall(y_pred,test_labels))\n",
    "    LR_precision_list_std.append(precision(y_pred,test_labels))\n",
    "    i += 1\n",
    "    del CNN_LR, X_tr, X_ts, y_tr, y_ts, y_pred, y_tr_OHV, y_ts_OHV\n",
    "\n",
    "time_CNN_LR = time.time() - start_time_CNN_LR'''"
   ]
  },
  {
   "cell_type": "code",
   "execution_count": 146,
   "metadata": {
    "ExecuteTime": {
     "end_time": "2020-11-18T05:33:02.683260Z",
     "start_time": "2020-11-18T05:33:02.674112Z"
    }
   },
   "outputs": [
    {
     "data": {
      "text/plain": [
       "4813.428246974945"
      ]
     },
     "execution_count": 146,
     "metadata": {},
     "output_type": "execute_result"
    }
   ],
   "source": [
    "'''time_CNN_LR'''"
   ]
  },
  {
   "cell_type": "code",
   "execution_count": 117,
   "metadata": {
    "ExecuteTime": {
     "end_time": "2020-11-18T01:40:13.038478Z",
     "start_time": "2020-11-18T01:40:12.485416Z"
    }
   },
   "outputs": [
    {
     "data": {
      "text/plain": [
       "Text(0, 0.5, 'Accuracy, %')"
      ]
     },
     "execution_count": 117,
     "metadata": {},
     "output_type": "execute_result"
    },
    {
     "data": {
      "image/png": "[encoded data removed]",
      "text/plain": [
       "<Figure size 432x288 with 1 Axes>"
      ]
     },
     "metadata": {
      "needs_background": "light"
     },
     "output_type": "display_data"
    }
   ],
   "source": [
    "'''plt.plot(learning_rates, LR_accuracy_list_std)\n",
    "plt.xlabel(\"Learning Rate\")\n",
    "plt.ylabel('Accuracy, %')'''"
   ]
  },
  {
   "cell_type": "code",
   "execution_count": 170,
   "metadata": {
    "ExecuteTime": {
     "end_time": "2020-11-18T09:09:11.589915Z",
     "start_time": "2020-11-18T09:09:11.558120Z"
    }
   },
   "outputs": [
    {
     "name": "stdout",
     "output_type": "stream",
     "text": [
      "[0.1155, 0.2721, 0.4078, 0.4356, 0.4722, 0.4516, 0.4448, 0.4723, 0.4042, 0.2264]\n",
      "[0.5, 0.1, 0.01, 0.005, 0.002, 0.001, 0.0008, 0.0005, 0.0001, 1e-05]\n"
     ]
    }
   ],
   "source": [
    "'''print(LR_accuracy_list_std)\n",
    "print(learning_rates)'''"
   ]
  },
  {
   "cell_type": "code",
   "execution_count": 128,
   "metadata": {
    "ExecuteTime": {
     "end_time": "2020-11-18T01:51:28.459580Z",
     "start_time": "2020-11-18T01:51:28.453055Z"
    }
   },
   "outputs": [],
   "source": [
    "'''lr_subset = learning_rates[2:9]\n",
    "lr_accur_subset = LR_accuracy_list_std[2:9]'''"
   ]
  },
  {
   "cell_type": "markdown",
   "metadata": {},
   "source": [
    "### Zooming in on 0.01 - 0.0001 on our learning rate plot"
   ]
  },
  {
   "cell_type": "code",
   "execution_count": 133,
   "metadata": {
    "ExecuteTime": {
     "end_time": "2020-11-18T01:52:18.542527Z",
     "start_time": "2020-11-18T01:52:17.989620Z"
    }
   },
   "outputs": [
    {
     "data": {
      "text/plain": [
       "Text(0, 0.5, 'Accuracy, %')"
      ]
     },
     "execution_count": 133,
     "metadata": {},
     "output_type": "execute_result"
    },
    {
     "data": {
      "image/png": "[encoded data removed]",
      "text/plain": [
       "<Figure size 432x288 with 1 Axes>"
      ]
     },
     "metadata": {
      "needs_background": "light"
     },
     "output_type": "display_data"
    }
   ],
   "source": [
    "'''plt.plot(lr_subset, lr_accur_subset)\n",
    "plt.xlabel(\"Learning Rate\")\n",
    "plt.ylabel('Accuracy, %')'''"
   ]
  },
  {
   "cell_type": "markdown",
   "metadata": {},
   "source": [
    "# Tuning for best optimizer for gradient descent"
   ]
  },
  {
   "cell_type": "code",
   "execution_count": 143,
   "metadata": {
    "ExecuteTime": {
     "end_time": "2020-11-18T05:33:02.423432Z",
     "start_time": "2020-11-18T03:49:08.426123Z"
    }
   },
   "outputs": [],
   "source": [
    "'''start_time_CNN_opt = time.time()\n",
    "kf = KFold(n_splits=10)\n",
    "\n",
    "test_set = data_test_standard\n",
    "test_labels = coarse_labels_test_array\n",
    "\n",
    "opt_accuracy_list_std = []\n",
    "opt_recall_list_std = []\n",
    "opt_precision_list_std = []\n",
    "\n",
    "i = 0\n",
    "for tr_i, ts_i in kf.split(data_train_standard):\n",
    "    \n",
    "    if i < 5:\n",
    "        optim = 'RMSprop'\n",
    "    else:\n",
    "        optim = 'Adam'\n",
    "\n",
    "    # 1. Getting through the Kfold configuration\n",
    "    #print(\"Step: \", i, \"TRAIN: \", tr_i.shape, \" | TEST: \", ts_i.shape)\n",
    "    X_tr, X_ts = data_train_standard[tr_i], data_train_standard[ts_i]\n",
    "    y_tr, y_ts = coarse_labels_train_array[tr_i], coarse_labels_train_array[ts_i]\n",
    "    \n",
    "    y_tr_OHV = keras.utils.to_categorical(y_tr, 20) # One-Hot-Vector Encoding\n",
    "    y_ts_OHV = keras.utils.to_categorical(y_ts, 20) # One-Hot-Vector Encoding\n",
    "    \n",
    "    # 1. Create a CNN classifier\n",
    "    CNN_opt = Conv_Neural_Net(learn_r=LR,epochs=5,num_classes=20, batch_size=32, Verbose=0, optimiZer=optim)\n",
    "\n",
    "    # 2. Training the model using the splits from the Kfold step\n",
    "    CNN_opt.fit_conv_neural_net(X_tr, y_tr_OHV, X_ts, y_ts_OHV)\n",
    "\n",
    "    #Predict the response for test dataset\n",
    "    y_pred = CNN_opt.predict(test_set)\n",
    "    opt_accuracy_list_std.append(accuracy(y_pred,test_labels))\n",
    "    opt_recall_list_std.append(recall(y_pred,test_labels))\n",
    "    opt_precision_list_std.append(precision(y_pred,test_labels))\n",
    "    i += 1\n",
    "    del CNN_opt, X_tr, X_ts, y_tr, y_ts, y_pred, y_tr_OHV, y_ts_OHV\n",
    "\n",
    "time_CNN_opt = time.time() - start_time_CNN_opt'''"
   ]
  },
  {
   "cell_type": "code",
   "execution_count": 148,
   "metadata": {
    "ExecuteTime": {
     "end_time": "2020-11-18T05:36:29.610493Z",
     "start_time": "2020-11-18T05:36:29.226195Z"
    }
   },
   "outputs": [
    {
     "data": {
      "text/plain": [
       "<matplotlib.legend.Legend at 0x1cd5224750>"
      ]
     },
     "execution_count": 148,
     "metadata": {},
     "output_type": "execute_result"
    },
    {
     "data": {
      "image/png": "[encoded data removed]",
      "text/plain": [
       "<Figure size 432x288 with 1 Axes>"
      ]
     },
     "metadata": {
      "needs_background": "light"
     },
     "output_type": "display_data"
    }
   ],
   "source": [
    "'''run_number = [1,2,3,4,5]\n",
    "RMSprops = opt_accuracy_list_std[0:5]\n",
    "Adams = opt_accuracy_list_std[5:]\n",
    "plt.scatter(run_number, RMSprops, color='blue', label='RMSprop')\n",
    "plt.scatter(run_number, Adams, color='red', label='Adam')\n",
    "plt.xlabel(\"Run Number\")\n",
    "plt.ylabel('Accuracy, %')\n",
    "plt.axhline(linestyle='--', color='blue', y=np.average(RMSprops))\n",
    "plt.axhline(linestyle='--', color='red', y=np.average(Adams))\n",
    "plt.legend()'''"
   ]
  },
  {
   "cell_type": "code",
   "execution_count": 149,
   "metadata": {
    "ExecuteTime": {
     "end_time": "2020-11-18T05:38:41.585373Z",
     "start_time": "2020-11-18T05:38:41.574285Z"
    }
   },
   "outputs": [
    {
     "data": {
      "text/plain": [
       "6233.617739915848"
      ]
     },
     "execution_count": 149,
     "metadata": {},
     "output_type": "execute_result"
    }
   ],
   "source": [
    "'''time_CNN_opt'''"
   ]
  },
  {
   "cell_type": "markdown",
   "metadata": {
    "ExecuteTime": {
     "end_time": "2020-11-18T05:33:02.637683Z",
     "start_time": "2020-11-18T05:33:02.551400Z"
    }
   },
   "source": [
    "Given that the results are very close for our two optimizer choices, RMSprop and Adam, we will choose RMSprop as it seemed to generally perform better than Adam, and if we take run number 3 to be an outlier for each, then RMSprop would also have the highest average performance."
   ]
  },
  {
   "cell_type": "code",
   "execution_count": null,
   "metadata": {},
   "outputs": [],
   "source": []
  },
  {
   "cell_type": "markdown",
   "metadata": {},
   "source": [
    "# Tuned / Best Model - CNN\n",
    "\n",
    "Accuracy of CNN is 0.4843 \\\n",
    "Recall of CNN is 0.4843 \\\n",
    "Precision of CNN is 0.4832 \\\n",
    "The time to run this algorithm is 13.994 minutes"
   ]
  },
  {
   "cell_type": "markdown",
   "metadata": {},
   "source": [
    "We run our final model with an increased number of epochs (10 epochs) compared to our k-folds validation and parameter tuning (Only 5 epochs). This is because running more epochs seemed to be a computationally costly decision and so to be able to tune parameters and have our algorithm run in feasible times we chose to only run 5 epochs. Our final reporting of accuracy, precision, recall, and confusion matrix on the test set is reported after our algorithm ran for 10 epochs on our best tuned model. "
   ]
  },
  {
   "cell_type": "code",
   "execution_count": 151,
   "metadata": {
    "ExecuteTime": {
     "end_time": "2020-11-18T06:13:28.149312Z",
     "start_time": "2020-11-18T05:59:28.445767Z"
    }
   },
   "outputs": [
    {
     "name": "stdout",
     "output_type": "stream",
     "text": [
      "Train on 33000 samples, validate on 17000 samples\n",
      "Epoch 1/10\n",
      "33000/33000 [==============================] - 100s 3ms/step - loss: 2.8575 - accuracy: 0.1705 - val_loss: 2.6332 - val_accuracy: 0.2784\n",
      "Epoch 2/10\n",
      "33000/33000 [==============================] - 72s 2ms/step - loss: 2.6812 - accuracy: 0.2247 - val_loss: 2.4322 - val_accuracy: 0.3566\n",
      "Epoch 3/10\n",
      "33000/33000 [==============================] - 74s 2ms/step - loss: 2.6103 - accuracy: 0.2540 - val_loss: 2.3541 - val_accuracy: 0.3766\n",
      "Epoch 4/10\n",
      "33000/33000 [==============================] - 75s 2ms/step - loss: 2.5675 - accuracy: 0.2683 - val_loss: 2.2576 - val_accuracy: 0.4122\n",
      "Epoch 5/10\n",
      "33000/33000 [==============================] - 76s 2ms/step - loss: 2.5289 - accuracy: 0.2829 - val_loss: 2.2497 - val_accuracy: 0.4174\n",
      "Epoch 6/10\n",
      "33000/33000 [==============================] - 72s 2ms/step - loss: 2.4994 - accuracy: 0.2958 - val_loss: 2.2562 - val_accuracy: 0.4276\n",
      "Epoch 7/10\n",
      "33000/33000 [==============================] - 71s 2ms/step - loss: 2.4732 - accuracy: 0.3029 - val_loss: 2.1816 - val_accuracy: 0.4565\n",
      "Epoch 8/10\n",
      "33000/33000 [==============================] - 70s 2ms/step - loss: 2.4579 - accuracy: 0.3065 - val_loss: 2.1558 - val_accuracy: 0.4619\n",
      "Epoch 9/10\n",
      "33000/33000 [==============================] - 71s 2ms/step - loss: 2.4256 - accuracy: 0.3196 - val_loss: 2.1141 - val_accuracy: 0.4795\n",
      "Epoch 10/10\n",
      "33000/33000 [==============================] - 71s 2ms/step - loss: 2.4170 - accuracy: 0.3242 - val_loss: 2.0827 - val_accuracy: 0.4715\n"
     ]
    }
   ],
   "source": [
    "start_time = time.time()\n",
    "\n",
    "FINAL_train = data_train_standard[:33000]\n",
    "FINAL_valid = data_train_standard[33000:]\n",
    "FINAL_test = data_test_standard\n",
    "\n",
    "FINAL_train_labels = coarse_labels_train_array[:33000]\n",
    "FINAL_valid_labels = coarse_labels_train_array[33000:]\n",
    "FINAL_test_labels = coarse_labels_test_array\n",
    "\n",
    "OHV_train_labels = keras.utils.to_categorical(FINAL_train_labels, 20) # One-Hot-Vector Encoding\n",
    "OHV_valid_labels = keras.utils.to_categorical(FINAL_valid_labels, 20) # One-Hot-Vector Encoding\n",
    "\n",
    "# Create Classifier\n",
    "CNN_FINAL = Conv_Neural_Net(learn_r=0.002,epochs=10,num_classes=20, batch_size=32, Verbose=1, optimiZer='RMSprop')\n",
    "\n",
    "# Train Classifier\n",
    "CNN_FINAL.fit_conv_neural_net(FINAL_train, OHV_train_labels, FINAL_valid, OHV_valid_labels)\n",
    "\n",
    "# Predict on test set\n",
    "y_pred = CNN_FINAL.predict(FINAL_test)\n",
    "\n",
    "BEST_MODEL_TIME = time.time() - start_time"
   ]
  },
  {
   "cell_type": "code",
   "execution_count": null,
   "metadata": {},
   "outputs": [],
   "source": []
  },
  {
   "cell_type": "markdown",
   "metadata": {},
   "source": [
    "# Accuracy, Precision, Recall for test set"
   ]
  },
  {
   "cell_type": "code",
   "execution_count": 152,
   "metadata": {
    "ExecuteTime": {
     "end_time": "2020-11-18T06:14:05.238490Z",
     "start_time": "2020-11-18T06:14:05.104893Z"
    }
   },
   "outputs": [],
   "source": [
    "acc = accuracy(y_pred, FINAL_test_labels)\n",
    "rec = recall(y_pred, FINAL_test_labels)\n",
    "pre = precision(y_pred, FINAL_test_labels)"
   ]
  },
  {
   "cell_type": "code",
   "execution_count": 153,
   "metadata": {
    "ExecuteTime": {
     "end_time": "2020-11-18T06:14:06.606471Z",
     "start_time": "2020-11-18T06:14:06.588031Z"
    }
   },
   "outputs": [
    {
     "name": "stdout",
     "output_type": "stream",
     "text": [
      "Accuracy analysis--.\n",
      "- Accuracy of CNN is 0.4843\n",
      "- Recall of CNN is 0.4843\n",
      "- Precision of CNN is 0.4832\n",
      "The time to run this algorithm is 13.994 minutes \n"
     ]
    }
   ],
   "source": [
    "print(\"Accuracy analysis--.\")\n",
    "print(\"- Accuracy of CNN is {:.04f}\".format(acc))\n",
    "print(\"- Recall of CNN is {:.04f}\".format(rec))\n",
    "print(\"- Precision of CNN is {:.04f}\".format(pre))\n",
    "print(\"The time to run this algorithm is {:.03f} minutes \".format(BEST_MODEL_TIME/60))"
   ]
  },
  {
   "cell_type": "markdown",
   "metadata": {},
   "source": [
    "# Confusion Matrix for test set"
   ]
  },
  {
   "cell_type": "code",
   "execution_count": 163,
   "metadata": {
    "ExecuteTime": {
     "end_time": "2020-11-18T06:20:08.673181Z",
     "start_time": "2020-11-18T06:20:06.673279Z"
    }
   },
   "outputs": [
    {
     "data": {
      "text/plain": [
       "<matplotlib.axes._subplots.AxesSubplot at 0x1c802a90d0>"
      ]
     },
     "execution_count": 163,
     "metadata": {},
     "output_type": "execute_result"
    },
    {
     "data": {
      "image/png": "[encoded data removed]",
      "text/plain": [
       "<Figure size 1080x1080 with 2 Axes>"
      ]
     },
     "metadata": {
      "needs_background": "light"
     },
     "output_type": "display_data"
    }
   ],
   "source": [
    "confusion_CNN_test = pd.DataFrame(CONFUSION_matrix(y_pred, FINAL_test_labels))\n",
    "fig_dims = (15, 15)\n",
    "fig, ax = plt.subplots(figsize=fig_dims)\n",
    "sns.heatmap(confusion_CNN_test, annot=True, cmap='Blues')"
   ]
  },
  {
   "cell_type": "code",
   "execution_count": 168,
   "metadata": {
    "ExecuteTime": {
     "end_time": "2020-11-18T06:52:26.879282Z",
     "start_time": "2020-11-18T06:52:26.705279Z"
    }
   },
   "outputs": [
    {
     "data": {
      "text/html": [
       "<div>\n",
       "<style scoped>\n",
       "    .dataframe tbody tr th:only-of-type {\n",
       "        vertical-align: middle;\n",
       "    }\n",
       "\n",
       "    .dataframe tbody tr th {\n",
       "        vertical-align: top;\n",
       "    }\n",
       "\n",
       "    .dataframe thead th {\n",
       "        text-align: right;\n",
       "    }\n",
       "</style>\n",
       "<table border=\"1\" class=\"dataframe\">\n",
       "  <thead>\n",
       "    <tr style=\"text-align: right;\">\n",
       "      <th></th>\n",
       "      <th>0</th>\n",
       "      <th>1</th>\n",
       "      <th>2</th>\n",
       "      <th>3</th>\n",
       "      <th>4</th>\n",
       "      <th>5</th>\n",
       "      <th>6</th>\n",
       "      <th>7</th>\n",
       "      <th>8</th>\n",
       "      <th>9</th>\n",
       "      <th>10</th>\n",
       "      <th>11</th>\n",
       "      <th>12</th>\n",
       "      <th>13</th>\n",
       "      <th>14</th>\n",
       "      <th>15</th>\n",
       "      <th>16</th>\n",
       "      <th>17</th>\n",
       "      <th>18</th>\n",
       "      <th>19</th>\n",
       "    </tr>\n",
       "  </thead>\n",
       "  <tbody>\n",
       "    <tr>\n",
       "      <td>0</td>\n",
       "      <td>193</td>\n",
       "      <td>80</td>\n",
       "      <td>1</td>\n",
       "      <td>0</td>\n",
       "      <td>3</td>\n",
       "      <td>5</td>\n",
       "      <td>2</td>\n",
       "      <td>16</td>\n",
       "      <td>34</td>\n",
       "      <td>2</td>\n",
       "      <td>14</td>\n",
       "      <td>24</td>\n",
       "      <td>18</td>\n",
       "      <td>13</td>\n",
       "      <td>6</td>\n",
       "      <td>30</td>\n",
       "      <td>39</td>\n",
       "      <td>8</td>\n",
       "      <td>4</td>\n",
       "      <td>8</td>\n",
       "    </tr>\n",
       "    <tr>\n",
       "      <td>1</td>\n",
       "      <td>30</td>\n",
       "      <td>241</td>\n",
       "      <td>39</td>\n",
       "      <td>5</td>\n",
       "      <td>14</td>\n",
       "      <td>3</td>\n",
       "      <td>6</td>\n",
       "      <td>8</td>\n",
       "      <td>8</td>\n",
       "      <td>10</td>\n",
       "      <td>8</td>\n",
       "      <td>12</td>\n",
       "      <td>14</td>\n",
       "      <td>12</td>\n",
       "      <td>13</td>\n",
       "      <td>20</td>\n",
       "      <td>33</td>\n",
       "      <td>6</td>\n",
       "      <td>7</td>\n",
       "      <td>11</td>\n",
       "    </tr>\n",
       "    <tr>\n",
       "      <td>2</td>\n",
       "      <td>0</td>\n",
       "      <td>9</td>\n",
       "      <td>397</td>\n",
       "      <td>3</td>\n",
       "      <td>28</td>\n",
       "      <td>2</td>\n",
       "      <td>3</td>\n",
       "      <td>13</td>\n",
       "      <td>4</td>\n",
       "      <td>2</td>\n",
       "      <td>3</td>\n",
       "      <td>1</td>\n",
       "      <td>3</td>\n",
       "      <td>7</td>\n",
       "      <td>11</td>\n",
       "      <td>3</td>\n",
       "      <td>4</td>\n",
       "      <td>2</td>\n",
       "      <td>3</td>\n",
       "      <td>2</td>\n",
       "    </tr>\n",
       "    <tr>\n",
       "      <td>3</td>\n",
       "      <td>5</td>\n",
       "      <td>22</td>\n",
       "      <td>16</td>\n",
       "      <td>241</td>\n",
       "      <td>23</td>\n",
       "      <td>42</td>\n",
       "      <td>23</td>\n",
       "      <td>16</td>\n",
       "      <td>13</td>\n",
       "      <td>5</td>\n",
       "      <td>5</td>\n",
       "      <td>2</td>\n",
       "      <td>5</td>\n",
       "      <td>7</td>\n",
       "      <td>36</td>\n",
       "      <td>0</td>\n",
       "      <td>19</td>\n",
       "      <td>1</td>\n",
       "      <td>7</td>\n",
       "      <td>12</td>\n",
       "    </tr>\n",
       "    <tr>\n",
       "      <td>4</td>\n",
       "      <td>1</td>\n",
       "      <td>14</td>\n",
       "      <td>64</td>\n",
       "      <td>14</td>\n",
       "      <td>283</td>\n",
       "      <td>2</td>\n",
       "      <td>10</td>\n",
       "      <td>13</td>\n",
       "      <td>11</td>\n",
       "      <td>0</td>\n",
       "      <td>10</td>\n",
       "      <td>18</td>\n",
       "      <td>2</td>\n",
       "      <td>7</td>\n",
       "      <td>26</td>\n",
       "      <td>7</td>\n",
       "      <td>10</td>\n",
       "      <td>1</td>\n",
       "      <td>3</td>\n",
       "      <td>4</td>\n",
       "    </tr>\n",
       "    <tr>\n",
       "      <td>5</td>\n",
       "      <td>12</td>\n",
       "      <td>24</td>\n",
       "      <td>15</td>\n",
       "      <td>59</td>\n",
       "      <td>20</td>\n",
       "      <td>149</td>\n",
       "      <td>42</td>\n",
       "      <td>9</td>\n",
       "      <td>16</td>\n",
       "      <td>9</td>\n",
       "      <td>10</td>\n",
       "      <td>4</td>\n",
       "      <td>6</td>\n",
       "      <td>19</td>\n",
       "      <td>34</td>\n",
       "      <td>23</td>\n",
       "      <td>16</td>\n",
       "      <td>4</td>\n",
       "      <td>22</td>\n",
       "      <td>7</td>\n",
       "    </tr>\n",
       "    <tr>\n",
       "      <td>6</td>\n",
       "      <td>3</td>\n",
       "      <td>10</td>\n",
       "      <td>8</td>\n",
       "      <td>21</td>\n",
       "      <td>14</td>\n",
       "      <td>27</td>\n",
       "      <td>269</td>\n",
       "      <td>11</td>\n",
       "      <td>4</td>\n",
       "      <td>12</td>\n",
       "      <td>12</td>\n",
       "      <td>12</td>\n",
       "      <td>3</td>\n",
       "      <td>9</td>\n",
       "      <td>16</td>\n",
       "      <td>13</td>\n",
       "      <td>24</td>\n",
       "      <td>0</td>\n",
       "      <td>20</td>\n",
       "      <td>12</td>\n",
       "    </tr>\n",
       "    <tr>\n",
       "      <td>7</td>\n",
       "      <td>11</td>\n",
       "      <td>9</td>\n",
       "      <td>43</td>\n",
       "      <td>5</td>\n",
       "      <td>13</td>\n",
       "      <td>0</td>\n",
       "      <td>7</td>\n",
       "      <td>253</td>\n",
       "      <td>15</td>\n",
       "      <td>3</td>\n",
       "      <td>19</td>\n",
       "      <td>9</td>\n",
       "      <td>8</td>\n",
       "      <td>30</td>\n",
       "      <td>12</td>\n",
       "      <td>21</td>\n",
       "      <td>21</td>\n",
       "      <td>8</td>\n",
       "      <td>5</td>\n",
       "      <td>8</td>\n",
       "    </tr>\n",
       "    <tr>\n",
       "      <td>8</td>\n",
       "      <td>28</td>\n",
       "      <td>6</td>\n",
       "      <td>5</td>\n",
       "      <td>2</td>\n",
       "      <td>3</td>\n",
       "      <td>4</td>\n",
       "      <td>6</td>\n",
       "      <td>9</td>\n",
       "      <td>197</td>\n",
       "      <td>8</td>\n",
       "      <td>17</td>\n",
       "      <td>59</td>\n",
       "      <td>36</td>\n",
       "      <td>11</td>\n",
       "      <td>18</td>\n",
       "      <td>21</td>\n",
       "      <td>59</td>\n",
       "      <td>6</td>\n",
       "      <td>2</td>\n",
       "      <td>3</td>\n",
       "    </tr>\n",
       "    <tr>\n",
       "      <td>9</td>\n",
       "      <td>14</td>\n",
       "      <td>14</td>\n",
       "      <td>3</td>\n",
       "      <td>2</td>\n",
       "      <td>2</td>\n",
       "      <td>5</td>\n",
       "      <td>11</td>\n",
       "      <td>1</td>\n",
       "      <td>9</td>\n",
       "      <td>262</td>\n",
       "      <td>63</td>\n",
       "      <td>21</td>\n",
       "      <td>2</td>\n",
       "      <td>3</td>\n",
       "      <td>10</td>\n",
       "      <td>3</td>\n",
       "      <td>15</td>\n",
       "      <td>26</td>\n",
       "      <td>18</td>\n",
       "      <td>16</td>\n",
       "    </tr>\n",
       "    <tr>\n",
       "      <td>10</td>\n",
       "      <td>9</td>\n",
       "      <td>36</td>\n",
       "      <td>8</td>\n",
       "      <td>6</td>\n",
       "      <td>0</td>\n",
       "      <td>3</td>\n",
       "      <td>6</td>\n",
       "      <td>1</td>\n",
       "      <td>5</td>\n",
       "      <td>21</td>\n",
       "      <td>366</td>\n",
       "      <td>6</td>\n",
       "      <td>1</td>\n",
       "      <td>3</td>\n",
       "      <td>0</td>\n",
       "      <td>5</td>\n",
       "      <td>10</td>\n",
       "      <td>9</td>\n",
       "      <td>1</td>\n",
       "      <td>4</td>\n",
       "    </tr>\n",
       "    <tr>\n",
       "      <td>11</td>\n",
       "      <td>24</td>\n",
       "      <td>6</td>\n",
       "      <td>1</td>\n",
       "      <td>3</td>\n",
       "      <td>5</td>\n",
       "      <td>2</td>\n",
       "      <td>2</td>\n",
       "      <td>10</td>\n",
       "      <td>54</td>\n",
       "      <td>15</td>\n",
       "      <td>13</td>\n",
       "      <td>206</td>\n",
       "      <td>27</td>\n",
       "      <td>4</td>\n",
       "      <td>27</td>\n",
       "      <td>19</td>\n",
       "      <td>53</td>\n",
       "      <td>7</td>\n",
       "      <td>13</td>\n",
       "      <td>9</td>\n",
       "    </tr>\n",
       "    <tr>\n",
       "      <td>12</td>\n",
       "      <td>23</td>\n",
       "      <td>24</td>\n",
       "      <td>8</td>\n",
       "      <td>3</td>\n",
       "      <td>3</td>\n",
       "      <td>3</td>\n",
       "      <td>1</td>\n",
       "      <td>18</td>\n",
       "      <td>68</td>\n",
       "      <td>5</td>\n",
       "      <td>8</td>\n",
       "      <td>40</td>\n",
       "      <td>141</td>\n",
       "      <td>9</td>\n",
       "      <td>19</td>\n",
       "      <td>32</td>\n",
       "      <td>78</td>\n",
       "      <td>3</td>\n",
       "      <td>7</td>\n",
       "      <td>7</td>\n",
       "    </tr>\n",
       "    <tr>\n",
       "      <td>13</td>\n",
       "      <td>21</td>\n",
       "      <td>37</td>\n",
       "      <td>31</td>\n",
       "      <td>27</td>\n",
       "      <td>21</td>\n",
       "      <td>7</td>\n",
       "      <td>12</td>\n",
       "      <td>71</td>\n",
       "      <td>21</td>\n",
       "      <td>3</td>\n",
       "      <td>22</td>\n",
       "      <td>11</td>\n",
       "      <td>17</td>\n",
       "      <td>75</td>\n",
       "      <td>18</td>\n",
       "      <td>54</td>\n",
       "      <td>31</td>\n",
       "      <td>3</td>\n",
       "      <td>10</td>\n",
       "      <td>8</td>\n",
       "    </tr>\n",
       "    <tr>\n",
       "      <td>14</td>\n",
       "      <td>8</td>\n",
       "      <td>4</td>\n",
       "      <td>16</td>\n",
       "      <td>7</td>\n",
       "      <td>10</td>\n",
       "      <td>10</td>\n",
       "      <td>9</td>\n",
       "      <td>11</td>\n",
       "      <td>12</td>\n",
       "      <td>3</td>\n",
       "      <td>0</td>\n",
       "      <td>10</td>\n",
       "      <td>4</td>\n",
       "      <td>14</td>\n",
       "      <td>341</td>\n",
       "      <td>5</td>\n",
       "      <td>26</td>\n",
       "      <td>0</td>\n",
       "      <td>8</td>\n",
       "      <td>2</td>\n",
       "    </tr>\n",
       "    <tr>\n",
       "      <td>15</td>\n",
       "      <td>35</td>\n",
       "      <td>58</td>\n",
       "      <td>1</td>\n",
       "      <td>7</td>\n",
       "      <td>3</td>\n",
       "      <td>10</td>\n",
       "      <td>10</td>\n",
       "      <td>33</td>\n",
       "      <td>32</td>\n",
       "      <td>7</td>\n",
       "      <td>22</td>\n",
       "      <td>17</td>\n",
       "      <td>26</td>\n",
       "      <td>29</td>\n",
       "      <td>10</td>\n",
       "      <td>130</td>\n",
       "      <td>42</td>\n",
       "      <td>6</td>\n",
       "      <td>7</td>\n",
       "      <td>15</td>\n",
       "    </tr>\n",
       "    <tr>\n",
       "      <td>16</td>\n",
       "      <td>26</td>\n",
       "      <td>17</td>\n",
       "      <td>7</td>\n",
       "      <td>5</td>\n",
       "      <td>3</td>\n",
       "      <td>6</td>\n",
       "      <td>12</td>\n",
       "      <td>23</td>\n",
       "      <td>40</td>\n",
       "      <td>6</td>\n",
       "      <td>17</td>\n",
       "      <td>21</td>\n",
       "      <td>25</td>\n",
       "      <td>6</td>\n",
       "      <td>40</td>\n",
       "      <td>32</td>\n",
       "      <td>200</td>\n",
       "      <td>10</td>\n",
       "      <td>3</td>\n",
       "      <td>1</td>\n",
       "    </tr>\n",
       "    <tr>\n",
       "      <td>17</td>\n",
       "      <td>4</td>\n",
       "      <td>7</td>\n",
       "      <td>10</td>\n",
       "      <td>0</td>\n",
       "      <td>1</td>\n",
       "      <td>1</td>\n",
       "      <td>5</td>\n",
       "      <td>4</td>\n",
       "      <td>3</td>\n",
       "      <td>13</td>\n",
       "      <td>41</td>\n",
       "      <td>2</td>\n",
       "      <td>2</td>\n",
       "      <td>2</td>\n",
       "      <td>2</td>\n",
       "      <td>5</td>\n",
       "      <td>9</td>\n",
       "      <td>386</td>\n",
       "      <td>0</td>\n",
       "      <td>3</td>\n",
       "    </tr>\n",
       "    <tr>\n",
       "      <td>18</td>\n",
       "      <td>13</td>\n",
       "      <td>7</td>\n",
       "      <td>9</td>\n",
       "      <td>2</td>\n",
       "      <td>6</td>\n",
       "      <td>12</td>\n",
       "      <td>2</td>\n",
       "      <td>7</td>\n",
       "      <td>14</td>\n",
       "      <td>16</td>\n",
       "      <td>13</td>\n",
       "      <td>9</td>\n",
       "      <td>6</td>\n",
       "      <td>5</td>\n",
       "      <td>6</td>\n",
       "      <td>12</td>\n",
       "      <td>3</td>\n",
       "      <td>12</td>\n",
       "      <td>298</td>\n",
       "      <td>48</td>\n",
       "    </tr>\n",
       "    <tr>\n",
       "      <td>19</td>\n",
       "      <td>17</td>\n",
       "      <td>15</td>\n",
       "      <td>6</td>\n",
       "      <td>8</td>\n",
       "      <td>11</td>\n",
       "      <td>11</td>\n",
       "      <td>6</td>\n",
       "      <td>12</td>\n",
       "      <td>8</td>\n",
       "      <td>25</td>\n",
       "      <td>14</td>\n",
       "      <td>12</td>\n",
       "      <td>8</td>\n",
       "      <td>11</td>\n",
       "      <td>5</td>\n",
       "      <td>15</td>\n",
       "      <td>5</td>\n",
       "      <td>12</td>\n",
       "      <td>84</td>\n",
       "      <td>215</td>\n",
       "    </tr>\n",
       "  </tbody>\n",
       "</table>\n",
       "</div>"
      ],
      "text/plain": [
       "      0    1    2    3    4    5    6    7    8    9   10   11   12  13   14  \\\n",
       "0   193   80    1    0    3    5    2   16   34    2   14   24   18  13    6   \n",
       "1    30  241   39    5   14    3    6    8    8   10    8   12   14  12   13   \n",
       "2     0    9  397    3   28    2    3   13    4    2    3    1    3   7   11   \n",
       "3     5   22   16  241   23   42   23   16   13    5    5    2    5   7   36   \n",
       "4     1   14   64   14  283    2   10   13   11    0   10   18    2   7   26   \n",
       "5    12   24   15   59   20  149   42    9   16    9   10    4    6  19   34   \n",
       "6     3   10    8   21   14   27  269   11    4   12   12   12    3   9   16   \n",
       "7    11    9   43    5   13    0    7  253   15    3   19    9    8  30   12   \n",
       "8    28    6    5    2    3    4    6    9  197    8   17   59   36  11   18   \n",
       "9    14   14    3    2    2    5   11    1    9  262   63   21    2   3   10   \n",
       "10    9   36    8    6    0    3    6    1    5   21  366    6    1   3    0   \n",
       "11   24    6    1    3    5    2    2   10   54   15   13  206   27   4   27   \n",
       "12   23   24    8    3    3    3    1   18   68    5    8   40  141   9   19   \n",
       "13   21   37   31   27   21    7   12   71   21    3   22   11   17  75   18   \n",
       "14    8    4   16    7   10   10    9   11   12    3    0   10    4  14  341   \n",
       "15   35   58    1    7    3   10   10   33   32    7   22   17   26  29   10   \n",
       "16   26   17    7    5    3    6   12   23   40    6   17   21   25   6   40   \n",
       "17    4    7   10    0    1    1    5    4    3   13   41    2    2   2    2   \n",
       "18   13    7    9    2    6   12    2    7   14   16   13    9    6   5    6   \n",
       "19   17   15    6    8   11   11    6   12    8   25   14   12    8  11    5   \n",
       "\n",
       "     15   16   17   18   19  \n",
       "0    30   39    8    4    8  \n",
       "1    20   33    6    7   11  \n",
       "2     3    4    2    3    2  \n",
       "3     0   19    1    7   12  \n",
       "4     7   10    1    3    4  \n",
       "5    23   16    4   22    7  \n",
       "6    13   24    0   20   12  \n",
       "7    21   21    8    5    8  \n",
       "8    21   59    6    2    3  \n",
       "9     3   15   26   18   16  \n",
       "10    5   10    9    1    4  \n",
       "11   19   53    7   13    9  \n",
       "12   32   78    3    7    7  \n",
       "13   54   31    3   10    8  \n",
       "14    5   26    0    8    2  \n",
       "15  130   42    6    7   15  \n",
       "16   32  200   10    3    1  \n",
       "17    5    9  386    0    3  \n",
       "18   12    3   12  298   48  \n",
       "19   15    5   12   84  215  "
      ]
     },
     "execution_count": 168,
     "metadata": {},
     "output_type": "execute_result"
    }
   ],
   "source": [
    "confusion_CNN_test"
   ]
  },
  {
   "cell_type": "code",
   "execution_count": null,
   "metadata": {},
   "outputs": [],
   "source": []
  },
  {
   "cell_type": "code",
   "execution_count": null,
   "metadata": {},
   "outputs": [],
   "source": []
  },
  {
   "cell_type": "code",
   "execution_count": null,
   "metadata": {},
   "outputs": [],
   "source": []
  },
  {
   "cell_type": "code",
   "execution_count": null,
   "metadata": {},
   "outputs": [],
   "source": []
  },
  {
   "cell_type": "code",
   "execution_count": null,
   "metadata": {},
   "outputs": [],
   "source": []
  },
  {
   "cell_type": "code",
   "execution_count": null,
   "metadata": {},
   "outputs": [],
   "source": []
  },
  {
   "cell_type": "code",
   "execution_count": null,
   "metadata": {
    "id": "KmpYay2oB5TP"
   },
   "outputs": [],
   "source": []
  },
  {
   "cell_type": "code",
   "execution_count": null,
   "metadata": {
    "id": "szyTm8tt1W-U"
   },
   "outputs": [],
   "source": []
  },
  {
   "cell_type": "code",
   "execution_count": null,
   "metadata": {},
   "outputs": [],
   "source": []
  }
 ],
 "metadata": {
  "accelerator": "GPU",
  "colab": {
   "collapsed_sections": [],
   "name": "group54_best_algorithm1.ipynb",
   "provenance": [
    {
     "file_id": "1_316jQWmN52Vwzja_iZXhfdLRUsSa7Yr",
     "timestamp": 1605134965241
    }
   ],
   "toc_visible": true
  },
  "kernelspec": {
   "display_name": "Python 3",
   "language": "python",
   "name": "python3"
  },
  "language_info": {
   "codemirror_mode": {
    "name": "ipython",
    "version": 3
   },
   "file_extension": ".py",
   "mimetype": "text/x-python",
   "name": "python",
   "nbconvert_exporter": "python",
   "pygments_lexer": "ipython3",
   "version": "3.7.4"
  },
  "toc": {
   "base_numbering": 1,
   "nav_menu": {},
   "number_sections": true,
   "sideBar": true,
   "skip_h1_title": false,
   "title_cell": "Table of Contents",
   "title_sidebar": "Contents",
   "toc_cell": false,
   "toc_position": {},
   "toc_section_display": true,
   "toc_window_display": true
  }
 },
 "nbformat": 4,
 "nbformat_minor": 1
}
