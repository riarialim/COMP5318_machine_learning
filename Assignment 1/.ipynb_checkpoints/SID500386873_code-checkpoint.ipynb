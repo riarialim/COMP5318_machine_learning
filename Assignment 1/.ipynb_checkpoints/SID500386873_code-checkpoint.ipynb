{
 "cells": [
  {
   "cell_type": "markdown",
   "metadata": {
    "id": "cTj2ylp8NsKm"
   },
   "source": [
    "# COMP5318 - Machine Learning and Data Mining: Assignment 1"
   ]
  },
  {
   "cell_type": "markdown",
   "metadata": {
    "id": "X53JG5DowGyH"
   },
   "source": [
    "Fashion Mnist<br />\n",
    "There are 10 classes in total:<br />\n",
    "0 T-shirt/Top<br />\n",
    "1 Trouser<br />\n",
    "2 Pullover<br />\n",
    "3 Dress<br />\n",
    "4 Coat<br />\n",
    "5 Sandal<br />\n",
    "6 Shirt<br />\n",
    "7 Sneaker<br />\n",
    "8 Bag<br />\n",
    "9 Ankle boot <br />"
   ]
  },
  {
   "cell_type": "markdown",
   "metadata": {
    "id": "HWGS6StY6HuN"
   },
   "source": [
    "**All codes in this file is written and run on Google Colab**"
   ]
  },
  {
   "cell_type": "markdown",
   "metadata": {
    "id": "-_1X7mN4Ho3K"
   },
   "source": [
    "# 0 Import and load (must be run)"
   ]
  },
  {
   "cell_type": "markdown",
   "metadata": {
    "id": "4p1Yp1sWFwuk"
   },
   "source": [
    "\n",
    "## Import libraries and packages"
   ]
  },
  {
   "cell_type": "code",
   "execution_count": 1,
   "metadata": {
    "id": "ZcE_zYyFv_nQ"
   },
   "outputs": [],
   "source": [
    "import h5py\n",
    "import numpy as np\n",
    "import time\n",
    "import matplotlib.pylab as plt\n",
    "%matplotlib inline\n",
    "import os"
   ]
  },
  {
   "cell_type": "markdown",
   "metadata": {
    "id": "CeQsgXlsGgwe"
   },
   "source": [
    "## Load all the data and preview\n",
    "\n",
    "\n"
   ]
  },
  {
   "cell_type": "code",
   "execution_count": null,
   "metadata": {
    "colab": {
     "base_uri": "https://localhost:8080/",
     "height": 35
    },
    "id": "DGHHp6dLz0Jj",
    "outputId": "1bce925f-3f50-461e-db4f-e80980cf8d76"
   },
   "outputs": [
    {
     "name": "stdout",
     "output_type": "stream",
     "text": [
      "Mounted at /content/drive\n"
     ]
    }
   ],
   "source": [
    "# Uncomment this cell if you are working on Google Colab\n",
    "# from google.colab import drive\n",
    "# drive.mount('/content/drive')"
   ]
  },
  {
   "cell_type": "code",
   "execution_count": null,
   "metadata": {
    "id": "3GmGjB0n0JHz"
   },
   "outputs": [],
   "source": [
    "with h5py.File('./Input/train/images_training.h5','r') as H:\n",
    "    data_train = np.copy(H['datatrain'])\n",
    "with h5py.File('./Input/train/labels_training.h5','r') as H:\n",
    "    label_train = np.copy(H['labeltrain'])\n",
    "with h5py.File('./Input/test/images_testing.h5','r') as H:\n",
    "    data_test = np.copy(H['datatest'])\n",
    "with h5py.File('./Input/test/labels_testing_2000.h5','r') as H:\n",
    "    label_test = np.copy(H['labeltest'])\n"
   ]
  },
  {
   "cell_type": "code",
   "execution_count": null,
   "metadata": {
    "colab": {
     "base_uri": "https://localhost:8080/",
     "height": 281
    },
    "id": "ppB8_PiEooN_",
    "outputId": "1de3532a-c4b8-4910-ab2d-1764a461341a"
   },
   "outputs": [
    {
     "data": {
      "image/png": "[encoded data removed]",
      "text/plain": [
       "<Figure size 432x288 with 1 Axes>"
      ]
     },
     "metadata": {
      "needs_background": "light",
      "tags": []
     },
     "output_type": "display_data"
    }
   ],
   "source": [
    "plt.hist(data_train)\n",
    "plt.title(\"data_train\")\n",
    "plt.show()"
   ]
  },
  {
   "cell_type": "code",
   "execution_count": null,
   "metadata": {
    "colab": {
     "base_uri": "https://localhost:8080/",
     "height": 281
    },
    "id": "e7A8NlHDvJTS",
    "outputId": "1986c885-da42-4a76-90f0-86cd4ba2524c"
   },
   "outputs": [
    {
     "data": {
      "image/png": "[encoded data removed]",
      "text/plain": [
       "<Figure size 432x288 with 1 Axes>"
      ]
     },
     "metadata": {
      "needs_background": "light",
      "tags": []
     },
     "output_type": "display_data"
    }
   ],
   "source": [
    "plt.hist(data_test)\n",
    "plt.title(\"data_test\")\n",
    "plt.show()"
   ]
  },
  {
   "cell_type": "code",
   "execution_count": null,
   "metadata": {
    "id": "IgtRQOgV8XMo"
   },
   "outputs": [],
   "source": [
    "label_dict = {\n",
    " 0: 'T-shirt/Top',\n",
    " 1: 'Trouser',\n",
    " 2: 'Pullover',\n",
    " 3: 'Dress',\n",
    " 4: 'Coat',\n",
    " 5: 'Sandal',\n",
    " 6: 'Shirt',\n",
    " 7: 'Sneaker',\n",
    " 8: 'Bag',\n",
    " 9: 'Ankle boot',\n",
    "}"
   ]
  },
  {
   "cell_type": "code",
   "execution_count": null,
   "metadata": {
    "colab": {
     "base_uri": "https://localhost:8080/",
     "height": 281
    },
    "id": "MDC7ZIiA2x80",
    "outputId": "ff03ecc4-0511-41d1-dcd0-236aed31479a"
   },
   "outputs": [
    {
     "data": {
      "image/png": "[encoded data removed]",
      "text/plain": [
       "<Figure size 432x288 with 1 Axes>"
      ]
     },
     "metadata": {
      "needs_background": "light",
      "tags": []
     },
     "output_type": "display_data"
    }
   ],
   "source": [
    "plt.imshow(data_train[0].reshape(28,28), cmap=plt.get_cmap('gray'))\n",
    "plt.title(\"class \" + str(label_train[0]) + \": \" + label_dict[label_train[0]] )\n",
    "plt.show()"
   ]
  },
  {
   "cell_type": "code",
   "execution_count": null,
   "metadata": {
    "colab": {
     "base_uri": "https://localhost:8080/",
     "height": 281
    },
    "id": "vpn5FAo6pe_2",
    "outputId": "6f03357b-8309-4996-f3bc-d4050e252cd6"
   },
   "outputs": [
    {
     "data": {
      "image/png": "[encoded data removed]",
      "text/plain": [
       "<Figure size 432x288 with 1 Axes>"
      ]
     },
     "metadata": {
      "needs_background": "light",
      "tags": []
     },
     "output_type": "display_data"
    }
   ],
   "source": [
    "plt.imshow(data_train[7].reshape(28,28), cmap=plt.get_cmap('gray'))\n",
    "plt.title(\"class \" + str(label_train[7]) + \": \" + label_dict[label_train[7]] )\n",
    "plt.show()"
   ]
  },
  {
   "cell_type": "markdown",
   "metadata": {
    "id": "-6rQRIIBHL0x"
   },
   "source": [
    "# 1 Preprocessing of data"
   ]
  },
  {
   "cell_type": "markdown",
   "metadata": {
    "id": "MyzXUOA4HfLl"
   },
   "source": [
    "## Centering (must be run)"
   ]
  },
  {
   "cell_type": "code",
   "execution_count": null,
   "metadata": {
    "colab": {
     "base_uri": "https://localhost:8080/",
     "height": 201
    },
    "id": "YFIsAUPO6roT",
    "outputId": "0d3f92ca-21f2-41a1-d4bc-eb03764e6c62"
   },
   "outputs": [
    {
     "name": "stdout",
     "output_type": "stream",
     "text": [
      "[[-2.7450981e-06 -2.0784315e-05 -9.9477256e-05 ... -1.0587726e-02\n",
      "  -3.0875793e-03 -2.8326799e-04]\n",
      " [-2.7450981e-06 -2.0784315e-05 -9.9477256e-05 ... -1.0587726e-02\n",
      "  -3.0875793e-03 -2.8326799e-04]\n",
      " [-2.7450981e-06 -2.0784315e-05 -9.9477256e-05 ... -1.0587726e-02\n",
      "  -3.0875793e-03 -2.8326799e-04]\n",
      " [-2.7450981e-06 -2.0784315e-05 -9.9477256e-05 ... -1.0587726e-02\n",
      "  -3.0875793e-03 -2.8326799e-04]\n",
      " [-2.7450981e-06 -2.0784315e-05 -9.9477256e-05 ... -1.0587726e-02\n",
      "  -3.0875793e-03 -2.8326799e-04]]\n"
     ]
    }
   ],
   "source": [
    "def center(train,test):\n",
    "  '''This function is to centering data using mean of training data\n",
    "    input1 = training data matrix size m x n\n",
    "    input2 = test data matrix size q x n\n",
    "    output= centered training (m x n) and test(q x n)'''\n",
    "  mean_train = np.mean(train, axis = 0)\n",
    "  train_new = train - mean_train\n",
    "  test_new = test - mean_train\n",
    "  return train_new, test_new\n",
    "\n",
    "data_train_centered, data_test_centered = center(data_train, data_test)\n",
    "print(data_train_centered[:5])"
   ]
  },
  {
   "cell_type": "code",
   "execution_count": null,
   "metadata": {
    "colab": {
     "base_uri": "https://localhost:8080/",
     "height": 281
    },
    "id": "uDHaWAkjwZHl",
    "outputId": "df82b327-7620-4fd0-b3a8-6337ee38c54d"
   },
   "outputs": [
    {
     "data": {
      "image/png": "[encoded data removed]",
      "text/plain": [
       "<Figure size 432x288 with 1 Axes>"
      ]
     },
     "metadata": {
      "needs_background": "light",
      "tags": []
     },
     "output_type": "display_data"
    }
   ],
   "source": [
    "plt.hist(data_train_centered)\n",
    "plt.title(\"data_train_centered\")\n",
    "plt.show()"
   ]
  },
  {
   "cell_type": "code",
   "execution_count": null,
   "metadata": {
    "colab": {
     "base_uri": "https://localhost:8080/",
     "height": 281
    },
    "id": "kZLgi7MDoxlx",
    "outputId": "985e0866-6972-4b1c-9ae5-ef095ef693a9"
   },
   "outputs": [
    {
     "data": {
      "image/png": "[encoded data removed]",
      "text/plain": [
       "<Figure size 432x288 with 1 Axes>"
      ]
     },
     "metadata": {
      "needs_background": "light",
      "tags": []
     },
     "output_type": "display_data"
    }
   ],
   "source": [
    "plt.hist(data_test_centered)\n",
    "plt.title(\"data_test_centered\")\n",
    "plt.show()"
   ]
  },
  {
   "cell_type": "markdown",
   "metadata": {
    "id": "R50P49EbgtJ7"
   },
   "source": [
    "## Principal Component Analysis (must be run)"
   ]
  },
  {
   "cell_type": "code",
   "execution_count": null,
   "metadata": {
    "colab": {
     "base_uri": "https://localhost:8080/",
     "height": 35
    },
    "id": "JFRJerUpymxd",
    "outputId": "15ce3035-55ab-43fe-d000-305259f2179b"
   },
   "outputs": [
    {
     "name": "stdout",
     "output_type": "stream",
     "text": [
      "68.30506581431007\n"
     ]
    }
   ],
   "source": [
    "cov_X = np.cov(data_train_centered.T)\n",
    "u, s,v = np.linalg.svd(cov_X)\n",
    "eig_values, eig_vec = s, u\n",
    "print(np.sum(eig_values))"
   ]
  },
  {
   "cell_type": "code",
   "execution_count": null,
   "metadata": {
    "colab": {
     "base_uri": "https://localhost:8080/",
     "height": 384
    },
    "id": "JjfwJ_e9P6G5",
    "outputId": "4fe45afd-0252-4543-8a1e-19a5caf60d20"
   },
   "outputs": [
    {
     "name": "stdout",
     "output_type": "stream",
     "text": [
      "99.99999999999999 \n",
      " [29.07705331 17.72924699  6.01392833  4.93665536  3.8278513   3.4506048\n",
      "  2.35977445  1.87614082  1.35558285  1.30976276  0.98624744  0.91098136\n",
      "  0.76765203  0.65798655  0.60750331  0.58897842  0.55580433  0.53109696\n",
      "  0.46149294  0.45643812  0.43087447  0.4053171   0.3852867   0.37165356\n",
      "  0.36384276  0.35356986  0.33338035  0.32046338  0.30885648  0.2907938\n",
      "  0.27789465  0.26788498  0.26331244  0.25521322  0.24738286  0.23658654\n",
      "  0.23001372  0.22512466  0.21946822  0.21117399  0.20149036  0.19580962\n",
      "  0.19278139  0.18293842  0.17413398  0.17235527  0.16800805  0.16552647\n",
      "  0.16119179  0.1554929   0.15369411  0.15113497  0.14736272  0.14320924\n",
      "  0.13758767  0.13638068  0.13126304  0.12863455  0.12722421  0.12526774\n",
      "  0.12253255  0.12010108  0.11851827  0.11658314  0.11532513  0.11276207\n",
      "  0.11130515  0.11036051  0.10608916  0.10543684  0.10316982  0.10083037\n",
      "  0.09874446  0.09657788  0.09443052  0.09323912  0.09285246  0.09014736\n",
      "  0.08969416  0.08799006  0.08689481  0.08421529  0.08325295  0.0816475\n",
      "  0.08103946  0.07996107  0.07846385  0.07718043  0.07643295  0.07618583\n",
      "  0.07467399  0.07427156  0.07381765  0.07229656  0.07134107  0.07078048\n",
      "  0.06988577  0.06833023  0.06712822  0.06704883]\n",
      "The first 72 principal components explain 88.95% of the variance in the data.\n",
      "The first 10 principal components explain 71.94% of the variance in the data.\n"
     ]
    }
   ],
   "source": [
    "explained_variance=(eig_values / np.sum(eig_values))*100\n",
    "print(np.sum(explained_variance), '\\n', explained_variance[:100])\n",
    "pc_1 = (explained_variance >= 0.1).sum() # no of components variance greater than and equals to 0.1\n",
    "pc_2 = (explained_variance >= 1.0).sum() # all components variance greater than and equals to 1.0\n",
    "print(\"The first {} principal components explain {:.2f}% of the variance in the data.\".format(pc_1, np.sum(explained_variance[:pc_1])))\n",
    "print(\"The first {} principal components explain {:.2f}% of the variance in the data.\".format(pc_2, np.sum(explained_variance[:pc_2])))"
   ]
  },
  {
   "cell_type": "markdown",
   "metadata": {
    "id": "826Ad0npg3dR"
   },
   "source": [
    "## Reconstruct the data"
   ]
  },
  {
   "cell_type": "markdown",
   "metadata": {
    "id": "bvoj0QrwG4MW"
   },
   "source": [
    "### reversed PCA method (must be run)"
   ]
  },
  {
   "cell_type": "code",
   "execution_count": null,
   "metadata": {
    "id": "PT_ebuB7mO68"
   },
   "outputs": [],
   "source": [
    "def recon_PCA(centered_data, k, train):\n",
    "  '''This function is to reconstruct data using PCA\n",
    "  input 1- a centered matrix size m x n\n",
    "  input 2- integer, number of pribcipal components to keep\n",
    "  input 3- training data (before centering) m x n\n",
    "  output- m x n reconstructed matrix data'''\n",
    "\n",
    "  cov_X = np.cov(centered_data.T)\n",
    "  u, s, v = np.linalg.svd(cov_X)\n",
    "  eig_values, eig_vectors = s, u\n",
    "\n",
    "  arg_descending = np.argsort(-eig_values) #sort from largest to smallest\n",
    "  k_components = arg_descending[:k]\n",
    "  vector_k = eig_vectors.T[k_components]\n",
    "\n",
    "  reconstructed_data = centered_data.dot(vector_k.T).dot(vector_k) + np.mean(train, axis=0)\n",
    "\n",
    "  return reconstructed_data"
   ]
  },
  {
   "cell_type": "code",
   "execution_count": null,
   "metadata": {
    "colab": {
     "base_uri": "https://localhost:8080/",
     "height": 54
    },
    "id": "aPtFp1pEG1cR",
    "outputId": "9a43cf26-d495-4965-fde2-4ddb8bb8f45e"
   },
   "outputs": [
    {
     "name": "stdout",
     "output_type": "stream",
     "text": [
      "If we choose 72 principal component/s, SSE = 226354.53690457798 and\n",
      " If we choose 10 principal component/s, SSE = 575042.5247091702 \n"
     ]
    }
   ],
   "source": [
    "# training data using PCA\n",
    "data_train_PCA1 = recon_PCA(data_train_centered, pc_1, data_train)\n",
    "data_train_PCA2 = recon_PCA(data_train_centered, pc_2, data_train)\n",
    "\n",
    "SSE_PCA1 = np.sum((data_train - data_train_PCA1)**2)\n",
    "SSE_PCA2 = np.sum((data_train - data_train_PCA2)**2)\n",
    "print('If we choose {} principal component/s, SSE = {} and\\n If we choose {} principal component/s, SSE = {} '\\\n",
    "          .format(pc_1, SSE_PCA1, pc_2, SSE_PCA2))"
   ]
  },
  {
   "cell_type": "code",
   "execution_count": null,
   "metadata": {
    "colab": {
     "base_uri": "https://localhost:8080/",
     "height": 281
    },
    "id": "Ua8pw_tinRo2",
    "outputId": "e0e61d1f-09e3-48cc-add6-d28d0cf0a54c"
   },
   "outputs": [
    {
     "data": {
      "image/png": "[encoded data removed]",
      "text/plain": [
       "<Figure size 432x288 with 1 Axes>"
      ]
     },
     "metadata": {
      "needs_background": "light",
      "tags": []
     },
     "output_type": "display_data"
    }
   ],
   "source": [
    "plt.imshow(data_train_PCA1[0].reshape(28,28), cmap=plt.get_cmap('gray'))\n",
    "plt.title(\"After PCA(1)- class \" + str(label_train[0]) + \": \" + label_dict[label_train[0]] )\n",
    "plt.show()"
   ]
  },
  {
   "cell_type": "code",
   "execution_count": null,
   "metadata": {
    "colab": {
     "base_uri": "https://localhost:8080/",
     "height": 281
    },
    "id": "UfxeJ-phFtIo",
    "outputId": "86b2d401-472c-4988-eef5-3cadbdce1d5e"
   },
   "outputs": [
    {
     "data": {
      "image/png": "[encoded data removed]",
      "text/plain": [
       "<Figure size 432x288 with 1 Axes>"
      ]
     },
     "metadata": {
      "needs_background": "light",
      "tags": []
     },
     "output_type": "display_data"
    }
   ],
   "source": [
    "plt.imshow(data_train_PCA2[0].reshape(28,28), cmap=plt.get_cmap('gray'))\n",
    "plt.title(\"After PCA(2)- class \" + str(label_train[0]) + \": \" + label_dict[label_train[0]] )\n",
    "plt.show()"
   ]
  },
  {
   "cell_type": "markdown",
   "metadata": {
    "id": "QZuypVeDHInq"
   },
   "source": [
    "### compression using SVD"
   ]
  },
  {
   "cell_type": "code",
   "execution_count": null,
   "metadata": {
    "id": "dPTG1nXPWqJI"
   },
   "outputs": [],
   "source": [
    "## Adapted from Lab 2 codes\n",
    "def recon_SVD(A, n_components):\n",
    "  '''This function is to reconstruct data using SVD\n",
    "  input1 - original data matrix m x n\n",
    "  input2 - integer, number of singular values r\n",
    "  output- reconstructed matrix m x n, compression ratio (float) and sum of squared error (float)'''\n",
    "\n",
    "  U, s, Vt = np.linalg.svd(A, full_matrices=False)\n",
    "  S = np.diag(s)\n",
    "  recon_A = U[0:U.shape[0], 0:n_components]\\\n",
    "        .dot(S[0:n_components,0:n_components])\\\n",
    "        .dot(Vt[0:n_components, 0:Vt.shape[1]])\n",
    "  SSE = np.sum((A - recon_A)**2)\n",
    "  comp_ratio = (A.shape[1]*n_components + n_components + A.shape[0]*n_components)/(A.shape[1] * A.shape[0])\n",
    "\n",
    "  return recon_A, np.round(comp_ratio,10), SSE"
   ]
  },
  {
   "cell_type": "code",
   "execution_count": null,
   "metadata": {
    "colab": {
     "base_uri": "https://localhost:8080/",
     "height": 164
    },
    "id": "O7W0c9XFiUff",
    "outputId": "3943ecdb-ed7e-4cdf-8e26-dd7640fa0bff"
   },
   "outputs": [
    {
     "name": "stdout",
     "output_type": "stream",
     "text": [
      "If we choose 72 dominant singular value/s;\n",
      " SSE = 226455.203125 and\n",
      " compresion ratio = 0.0942397959\n",
      "\n",
      "If we choose 10 dominant singular value/s;\n",
      " SSE = 577955.75 and\n",
      " compresion ratio = 0.0130888605\n",
      "\n"
     ]
    }
   ],
   "source": [
    "# training data using SVD\n",
    "data_train_SVD1, comp_ratio_SVD1, SSE_SVD1 = recon_SVD(data_train, pc_1)\n",
    "data_train_SVD2, comp_ratio_SVD2, SSE_SVD2 = recon_SVD(data_train, pc_2)\n",
    "\n",
    "print('If we choose {} dominant singular value/s;\\n SSE = {} and\\n compresion ratio = {}\\n'\\\n",
    "          .format(pc_1,SSE_SVD1, np.round(comp_ratio_SVD1, 10)))\n",
    "print('If we choose {} dominant singular value/s;\\n SSE = {} and\\n compresion ratio = {}\\n'\\\n",
    "          .format(pc_2, SSE_SVD2, np.round(comp_ratio_SVD2, 10)))"
   ]
  },
  {
   "cell_type": "code",
   "execution_count": null,
   "metadata": {
    "colab": {
     "base_uri": "https://localhost:8080/",
     "height": 281
    },
    "id": "QfI98snRnrdn",
    "outputId": "61f4f137-642d-47ff-e31d-d36b00b1e53f"
   },
   "outputs": [
    {
     "data": {
      "image/png": "[encoded data removed]",
      "text/plain": [
       "<Figure size 432x288 with 1 Axes>"
      ]
     },
     "metadata": {
      "needs_background": "light",
      "tags": []
     },
     "output_type": "display_data"
    }
   ],
   "source": [
    "plt.imshow(data_train_SVD1[0].reshape(28,28), cmap=plt.get_cmap('gray'))\n",
    "plt.title(\"After SVD(1)- class \" + str(label_train[0]) + \": \" + label_dict[label_train[0]] )\n",
    "plt.show()"
   ]
  },
  {
   "cell_type": "code",
   "execution_count": null,
   "metadata": {
    "colab": {
     "base_uri": "https://localhost:8080/",
     "height": 281
    },
    "id": "YUTVzHaNMXsE",
    "outputId": "8361b4f1-7710-4768-f689-ebd1cf2d4d2e"
   },
   "outputs": [
    {
     "data": {
      "image/png": "[encoded data removed]",
      "text/plain": [
       "<Figure size 432x288 with 1 Axes>"
      ]
     },
     "metadata": {
      "needs_background": "light",
      "tags": []
     },
     "output_type": "display_data"
    }
   ],
   "source": [
    "plt.imshow(data_train_SVD2[0].reshape(28,28), cmap=plt.get_cmap('gray'))\n",
    "plt.title(\"After SVD(2)-class \" + str(label_train[0]) + \": \" + label_dict[label_train[0]] )\n",
    "plt.show()"
   ]
  },
  {
   "cell_type": "markdown",
   "metadata": {
    "id": "pSEfSaGWHWZC"
   },
   "source": [
    "### reconstructing test data (must be run)"
   ]
  },
  {
   "cell_type": "markdown",
   "metadata": {
    "id": "M4pXK85RMdI0"
   },
   "source": [
    "Reconstructed data using PCA and SVD give similar results. Since SSE is smaller while using PCA, test data is reconstructed using PCA as shown below."
   ]
  },
  {
   "cell_type": "code",
   "execution_count": null,
   "metadata": {
    "id": "3KtSMUBXhT8X"
   },
   "outputs": [],
   "source": [
    "# test data using PCA\n",
    "data_test_PCA1 = recon_PCA(data_test_centered, pc_1, data_train)\n",
    "data_test_PCA2 = recon_PCA(data_test_centered, pc_2, data_train)"
   ]
  },
  {
   "cell_type": "markdown",
   "metadata": {
    "id": "gWrI2suvM_Yt"
   },
   "source": [
    "Also, in the remaining parts of this file, reconstructed data (training and test) by PCA will be used."
   ]
  },
  {
   "cell_type": "markdown",
   "metadata": {
    "id": "qqMUUxUqmreF"
   },
   "source": [
    "## Split training data into training and validation sets (can be skipped)"
   ]
  },
  {
   "cell_type": "code",
   "execution_count": null,
   "metadata": {
    "id": "42-mr2EP2soR"
   },
   "outputs": [],
   "source": [
    "def train_valid_split(data, label, portion):\n",
    "  '''This function is to split data with a random-shuffled indices\n",
    "  input1- training data m x n\n",
    "  input2- label of input1 shape(m,)\n",
    "  input3- a float, 0.7 means training 70% validation 30%\n",
    "  output- training set, label of training, validation set, label of valid set'''\n",
    "\n",
    "  indices = np.random.permutation(len(data))\n",
    "  set_size = int(portion* data.shape[0])\n",
    "  train_indices = indices[:set_size]\n",
    "  valid_indices = indices[set_size:]\n",
    "  data_train, label_train = data[train_indices], label[train_indices]\n",
    "  data_valid, label_valid = data[valid_indices], label[valid_indices]\n",
    "\n",
    "  return data_train, label_train, data_valid, label_valid\n",
    "\n",
    "# split the reconstructed data\n",
    "data_train_1,label_train_1, data_valid_1, label_valid_1 = train_valid_split(data_train_PCA1, label_train,0.8)\n",
    "data_train_2,label_train_2, data_valid_2, label_valid_2 = train_valid_split(data_train_PCA2, label_train,0.8)"
   ]
  },
  {
   "cell_type": "markdown",
   "metadata": {
    "id": "gSsRZw4pqHUE"
   },
   "source": [
    "# 2 K-Nearest Neighbour Classifier"
   ]
  },
  {
   "cell_type": "markdown",
   "metadata": {
    "id": "6dhYU5zGBdWF"
   },
   "source": [
    "## Main function (must be run)"
   ]
  },
  {
   "cell_type": "code",
   "execution_count": null,
   "metadata": {
    "id": "5YlJny3rLl1T"
   },
   "outputs": [],
   "source": [
    "def calc_knn(K, data_train, label_train, data_test):\n",
    "  '''This function is to calculate K-nearest neighbors and predict the class\n",
    "  input1- integer, value of K\n",
    "  input2- training data m x n\n",
    "  input3- label of input2, shape(m,)\n",
    "  input4- test data q x n\n",
    "  output- predicted label of input4, shape(q,)'''\n",
    "\n",
    "  out_class = np.empty(len(data_test))\n",
    "  for i in range(len(data_test)):\n",
    "      dis = ((data_train - data_test[i])**2).sum(axis=1)\n",
    "      arg_ascending = np.argsort(dis)\n",
    "\n",
    "      arg_k = label_train[arg_ascending[:K]]\n",
    "      uniq_class, counts = np.unique(arg_k, return_counts=True)\n",
    "      pred = uniq_class[counts.argmax()]\n",
    "      out_class[i] = pred\n",
    "  return out_class"
   ]
  },
  {
   "cell_type": "markdown",
   "metadata": {
    "id": "eWq_P3iEBhZC"
   },
   "source": [
    "## Hyperparameter tuning (can be skipped)"
   ]
  },
  {
   "cell_type": "code",
   "execution_count": null,
   "metadata": {
    "id": "LcKunB46zuAd"
   },
   "outputs": [],
   "source": [
    "def accuracy_rangeK(k_list, data_train, data_label, data_test, label_test):\n",
    "  '''This function is to calculate the accuracy of prediction with a range of K\n",
    "  input1- a range of integer\n",
    "  input2- training data m x n\n",
    "  input3- label of input2 shape(m,)\n",
    "  input4- valid/test data q x n\n",
    "  input5- label of input4 shape(q,)\n",
    "  output- a list of accuracy in %'''\n",
    "\n",
    "  accuracy = []\n",
    "  for k in k_list:\n",
    "    result_KNN = calc_knn(k, data_train, data_label, data_test)\n",
    "    accuracy.append((result_KNN == label_test).mean()*100)\n",
    "  return accuracy"
   ]
  },
  {
   "cell_type": "code",
   "execution_count": null,
   "metadata": {
    "id": "DpfXA-032NsS"
   },
   "outputs": [],
   "source": [
    "''' Code for hyperparameter tuning\n",
    "k_list = np.arange(1,11)\n",
    "KNN_accuracy_1 = accuracy_rangeK(k_list, data_train_1, label_train_1, data_valid_1, label_valid_1)\n",
    "KNN_accuracy_2 = accuracy_rangeK(k_list, data_train_2, label_train_2, data_valid_2, label_valid_2)\n",
    "'''"
   ]
  },
  {
   "cell_type": "code",
   "execution_count": null,
   "metadata": {
    "colab": {
     "base_uri": "https://localhost:8080/",
     "height": 313
    },
    "id": "3onx_qD_TDqx",
    "outputId": "ae391463-7028-4f34-a99a-88c01c783578"
   },
   "outputs": [
    {
     "data": {
      "text/plain": [
       "Text(0, 0.5, 'Accuracy, %')"
      ]
     },
     "execution_count": 153,
     "metadata": {
      "tags": []
     },
     "output_type": "execute_result"
    },
    {
     "data": {
      "image/png": "[encoded data removed]",
      "text/plain": [
       "<Figure size 432x288 with 1 Axes>"
      ]
     },
     "metadata": {
      "needs_background": "light",
      "tags": []
     },
     "output_type": "display_data"
    }
   ],
   "source": [
    "'''Code for hyperparameter tuning plot\n",
    "plt.plot(k_list, KNN_accuracy_1)\n",
    "plt.title(\"Accuracy of training set 1 VS k value\")\n",
    "plt.xlabel(\"k\")\n",
    "plt.ylabel(\"Accuracy, %\")\n",
    "'''"
   ]
  },
  {
   "cell_type": "code",
   "execution_count": null,
   "metadata": {
    "colab": {
     "base_uri": "https://localhost:8080/",
     "height": 313
    },
    "id": "ye9QqgsScA-Q",
    "outputId": "7e783a88-a4d3-46fd-c9ea-97d73af26b91"
   },
   "outputs": [
    {
     "data": {
      "text/plain": [
       "Text(0, 0.5, 'Accuracy, %')"
      ]
     },
     "execution_count": 149,
     "metadata": {
      "tags": []
     },
     "output_type": "execute_result"
    },
    {
     "data": {
      "image/png": "[encoded data removed]",
      "text/plain": [
       "<Figure size 432x288 with 1 Axes>"
      ]
     },
     "metadata": {
      "needs_background": "light",
      "tags": []
     },
     "output_type": "display_data"
    }
   ],
   "source": [
    "''' Code for hyperparameter tuning plot\n",
    "plt.plot(k_list, KNN_accuracy_2)\n",
    "plt.title(\"Accuracy of training set 2 VS k value\")\n",
    "plt.xlabel(\"k\")\n",
    "plt.ylabel(\"Accuracy, %\")\n",
    "'''"
   ]
  },
  {
   "cell_type": "markdown",
   "metadata": {
    "id": "OVNKecvJBr0I"
   },
   "source": [
    "## KNN Results"
   ]
  },
  {
   "cell_type": "markdown",
   "metadata": {
    "id": "1xQZ1fc0HwH4"
   },
   "source": [
    "### selected output (must be run)"
   ]
  },
  {
   "cell_type": "code",
   "execution_count": null,
   "metadata": {
    "colab": {
     "base_uri": "https://localhost:8080/",
     "height": 72
    },
    "id": "3UbtrLTMS87B",
    "outputId": "6c18f4ea-a199-4769-e78f-62752a5703ab"
   },
   "outputs": [
    {
     "name": "stdout",
     "output_type": "stream",
     "text": [
      "Total running time to predict test labels using KNN with all principal components: 294.1278 seconds\n",
      "Accuracy of predicting 2000 test labels: 83.95%\n",
      "\n"
     ]
    }
   ],
   "source": [
    "start_0 = time.time()\n",
    "output_KNN_0 = calc_knn(3, data_train, label_train, data_test)\n",
    "end_0 = time.time() - start_0\n",
    "KNN_performance_0 = (output_KNN_0[:2000] == label_test).mean()*100\n",
    "print(\"Total running time to predict test labels using KNN with all principal components: {:.4f} seconds\".format(end_0))\n",
    "print(\"Accuracy of predicting 2000 test labels: {:.2f}%\\n\".format(KNN_performance_0))"
   ]
  },
  {
   "cell_type": "markdown",
   "metadata": {
    "id": "SJrl30tOH-zR"
   },
   "source": [
    "### other experiments"
   ]
  },
  {
   "cell_type": "code",
   "execution_count": null,
   "metadata": {
    "colab": {
     "base_uri": "https://localhost:8080/",
     "height": 109
    },
    "id": "BLRrBLqLOgu-",
    "outputId": "4443cefe-03dd-4437-932d-5bd3c46fef9a"
   },
   "outputs": [
    {
     "name": "stdout",
     "output_type": "stream",
     "text": [
      "Total running time to predict test labels using KNN with 72 principal components: 398.8248 seconds\n",
      "Accuracy of predicting 2000 test labels: 83.40%\n",
      "\n",
      "Total running time for predict test labels using KNN with 10 principal components: 395.9655 seconds\n",
      "Accuracy of predicting 2000 test labels: 78.75%\n"
     ]
    }
   ],
   "source": [
    "start_1 = time.time()\n",
    "output_KNN_1 = calc_knn(3, data_train_PCA1, label_train, data_test_PCA1)\n",
    "end_1 = time.time() - start_1\n",
    "KNN_performance_1 = (output_KNN_1[:2000] == label_test).mean()*100\n",
    "print(\"Total running time to predict test labels using KNN with {} principal components: {:.4f} seconds\".format(pc_1, end_1))\n",
    "print(\"Accuracy of predicting 2000 test labels: {:.2f}%\\n\".format(KNN_performance_1))\n",
    "\n",
    "start_2 = time.time()\n",
    "output_KNN_2 = calc_knn(5, data_train_PCA2, label_train, data_test_PCA2)\n",
    "end_2 = time.time() - start_2\n",
    "KNN_performance_2 = (output_KNN_2[:2000] == label_test).mean()*100\n",
    "print(\"Total running time for predict test labels using KNN with {} principal components: {:.4f} seconds\".format(pc_2, end_2))\n",
    "print(\"Accuracy of predicting 2000 test labels: {:.2f}%\".format(KNN_performance_2))"
   ]
  },
  {
   "cell_type": "markdown",
   "metadata": {
    "id": "UpopKvDFqO0u"
   },
   "source": [
    "# 3 Naive Bayes classifier"
   ]
  },
  {
   "cell_type": "markdown",
   "metadata": {
    "id": "jAJKCNOxkhFm"
   },
   "source": [
    "Naive Bayes, assumed independence among X1..Xn<br />\n",
    "P(C,X) = P(X1|C) x P(X2|C) x...x P(Xn|C) x P(C)<br />\n",
    "Using properties of log to avoid underflow:<br />\n",
    "log(a*b) = log(a) + log(b)<br />\n",
    "Hence, we can convert the equation into:<br />\n",
    "log(P(C,X)) = log(P(X1|C)) + log(P(X2|C)) +...+ log(P(Xn|C)) + log(P(C))"
   ]
  },
  {
   "cell_type": "markdown",
   "metadata": {
    "id": "jb86n8nt3SAi"
   },
   "source": [
    "## Multinomial Naive Bayes *(can be skipped)*\n"
   ]
  },
  {
   "cell_type": "code",
   "execution_count": null,
   "metadata": {
    "id": "JGw1iTXCkakz"
   },
   "outputs": [],
   "source": [
    "def MultinomialNB(data_train, label_train, data_test, alpha = 1.0):\n",
    "  '''This function is to classify data based on Multinomial Naive Bayes method\n",
    "  input1- training data size m x n\n",
    "  input2- label of input1 shape (m,)\n",
    "  input3- test data size q x n\n",
    "  (input4- smooothing factor)\n",
    "  output- predicted label for input3 shape (q,)'''\n",
    "  \n",
    "  categories = np.unique(label_train)\n",
    "  no_of_categories = len(categories)\n",
    "  p_c = np.zeros(no_of_categories) #prior\n",
    "  px_c = np.zeros((no_of_categories, data_train.shape[1])) #likelihood\n",
    "  \n",
    "  for i, c in enumerate(categories):\n",
    "    data_train_c = data_train[c == label_train]\n",
    "    p_c[i] = np.log(data_train_c.shape[0] / data_train.shape[0])\n",
    "    count = data_train_c.sum(axis=0) + alpha\n",
    "    px_c[i, :] = np.log(count / np.sum(count))\n",
    "\n",
    "  prob_test = []\n",
    "  for x in data_test:\n",
    "    prob = (px_c * x).sum(axis = 1) + p_c\n",
    "    prob_test.append(prob)\n",
    "\n",
    "  return np.argmax(prob_test,axis = 1)"
   ]
  },
  {
   "cell_type": "code",
   "execution_count": null,
   "metadata": {
    "colab": {
     "base_uri": "https://localhost:8080/",
     "height": 164
    },
    "id": "Jhhpt2AzwJfg",
    "outputId": "5fab6eab-e380-4e91-a8aa-2dde3b8c042b"
   },
   "outputs": [
    {
     "name": "stdout",
     "output_type": "stream",
     "text": [
      "Accuracy of predicting 2000 test labels using raw data: 66.35%\n",
      "\n",
      "Accuracy of predicting 2000 test labels using PCA data1: 9.2%\n",
      "\n"
     ]
    },
    {
     "name": "stderr",
     "output_type": "stream",
     "text": [
      "/usr/local/lib/python3.6/dist-packages/ipykernel_launcher.py:12: RuntimeWarning: invalid value encountered in log\n",
      "  if sys.path[0] == '':\n"
     ]
    },
    {
     "name": "stdout",
     "output_type": "stream",
     "text": [
      "Accuracy of predicting 2000 test labels using PCA data2: 9.6%\n",
      "\n"
     ]
    }
   ],
   "source": [
    "predicted_MNB_1 = MultinomialNB(data_train, label_train, data_test)\n",
    "print(\"Accuracy of predicting 2000 test labels using raw data: {}%\\n\".format((predicted_MNB_1[:2000]==label_test).mean()*100))\n",
    "\n",
    "predicted_MNB_2 = MultinomialNB(data_train_PCA1, label_train, data_test_PCA1)\n",
    "print(\"Accuracy of predicting 2000 test labels using PCA data1: {}%\\n\".format((predicted_MNB_2[:2000]==label_test).mean()*100))\n",
    "\n",
    "predicted_MNB_3 = MultinomialNB(data_train_PCA2, label_train, data_test_PCA2)\n",
    "print(\"Accuracy of predicting 2000 test labels using PCA data2: {}%\\n\".format((predicted_MNB_3[:2000]==label_test).mean()*100))"
   ]
  },
  {
   "cell_type": "markdown",
   "metadata": {
    "id": "E42kT9xq5TKB"
   },
   "source": [
    "Based on the results, we can see that the performance of Multinomial Naive Bayes is incredibly low for data after PCA-processed. In fact, Multinomial NB is suitable for data which has categories as variables(columns of data). In our case, we should implement Gaussian Naive Bayes because the variables are numerical."
   ]
  },
  {
   "cell_type": "markdown",
   "metadata": {
    "id": "WDdTcHW34GbP"
   },
   "source": [
    "## Gaussian Naive Bayes"
   ]
  },
  {
   "cell_type": "markdown",
   "metadata": {
    "id": "IHTG5XvtCwrX"
   },
   "source": [
    "### Main function"
   ]
  },
  {
   "cell_type": "code",
   "execution_count": null,
   "metadata": {
    "id": "MGtVgRxwORwp"
   },
   "outputs": [],
   "source": [
    "def GaussianNB(data_train, label_train, data_test, alpha = 0.001):\n",
    "  '''This function is to classify data based on Gaussian Naive Bayes method\n",
    "  input1- training data size m x n\n",
    "  input2- label of input1 shape (m,)\n",
    "  input3- test data size q x n\n",
    "  (input4- smooothing factor)\n",
    "  output- predicted label for input3 shape (q,)'''\n",
    "\n",
    "  categories = np.unique(label_train)\n",
    "  no_of_categories = len(categories)\n",
    "\n",
    "  var = np.zeros((no_of_categories, data_train.shape[1]))\n",
    "  mean = np.zeros((no_of_categories, data_train.shape[1]))\n",
    "  px_c = []\n",
    "  for i, c in enumerate(categories):\n",
    "    # 1. Categorise data\n",
    "    data_train_c = data_train[c == label_train]\n",
    "    # 2. Get variance and mean from 1\n",
    "    var[i] = np.var(data_train_c,axis=0) + alpha\n",
    "    mean[i] = np.mean(data_train_c,axis=0)\n",
    "    # 3. Calculate likelihood\n",
    "    exponent = np.exp(-(data_test - mean[i,:])**2/(2*var[i,:]))\n",
    "    log_prob = np.log(exponent/np.sqrt((2* np.pi * var[i,:])))\n",
    "    prob_c = np.sum(log_prob, axis = 1)\n",
    "    # 4. Append it to a list\n",
    "    px_c.append(prob_c)\n",
    "\n",
    "  return np.argmax(np.array(px_c).T,axis=1) \n"
   ]
  },
  {
   "cell_type": "markdown",
   "metadata": {
    "id": "i_BHxfkZC31z"
   },
   "source": [
    "### NB Results"
   ]
  },
  {
   "cell_type": "code",
   "execution_count": null,
   "metadata": {
    "colab": {
     "base_uri": "https://localhost:8080/",
     "height": 54
    },
    "id": "4gbprpKJTbOp",
    "outputId": "9dfa73c0-3340-413f-9b48-3407f91baec4"
   },
   "outputs": [
    {
     "name": "stdout",
     "output_type": "stream",
     "text": [
      "Total running time to predict test labels using NB with all principal components: 2.9911 seconds\n",
      "Accuracy of predicting 2000 test labels: 67.20%\n"
     ]
    }
   ],
   "source": [
    "start_5 = time.time()\n",
    "output_GNB_0 = GaussianNB(data_train, label_train, data_test)\n",
    "end_5 = time.time() - start_5\n",
    "GNB_accuracy_0 = (output_GNB_0[:2000]==label_test).mean()*100\n",
    "print(\"Total running time to predict test labels using NB with all principal components: {:.4f} seconds\".format(end_5))\n",
    "print(\"Accuracy of predicting 2000 test labels: {:.2f}%\".format(GNB_accuracy_0))"
   ]
  },
  {
   "cell_type": "code",
   "execution_count": null,
   "metadata": {
    "colab": {
     "base_uri": "https://localhost:8080/",
     "height": 109
    },
    "id": "51LJWU17TnKs",
    "outputId": "7fd1e61b-a383-4b73-96c5-4e734f83e733"
   },
   "outputs": [
    {
     "name": "stdout",
     "output_type": "stream",
     "text": [
      "Total running time to predict test labels using NB with 72 principal components: 2.8175 seconds\n",
      "Accuracy of predicting 2000 test labels: 68.85%\n",
      "\n",
      "Total running time to predict test labels using NB with 10 principal components: 2.5193 seconds\n",
      "Accuracy of predicting 2000 test labels: 68.80%\n"
     ]
    }
   ],
   "source": [
    "start_3 = time.time()\n",
    "output_GNB_1 = GaussianNB(data_train_PCA1, label_train, data_test_PCA1)\n",
    "end_3 = time.time() - start_3\n",
    "GNB_accuracy_1 = (output_GNB_1[:2000]==label_test).mean()*100\n",
    "print(\"Total running time to predict test labels using NB with {} principal components: {:.4f} seconds\".format(pc_1, end_3))\n",
    "print(\"Accuracy of predicting 2000 test labels: {:.2f}%\\n\".format(GNB_accuracy_1))\n",
    "\n",
    "start_4 = time.time()\n",
    "output_GNB_2 = GaussianNB(data_train_PCA2, label_train, data_test_PCA2)\n",
    "end_4 = time.time() - start_4\n",
    "GNB_accuracy_2 = (output_GNB_2[:2000]==label_test).mean()*100\n",
    "print(\"Total running time to predict test labels using NB with {} principal components: {:.4f} seconds\".format(pc_2, end_4))\n",
    "print(\"Accuracy of predicting 2000 test labels: {:.2f}%\".format(GNB_accuracy_2))"
   ]
  },
  {
   "cell_type": "markdown",
   "metadata": {
    "id": "4iyqL33_xAx8"
   },
   "source": [
    "# 4 Decision"
   ]
  },
  {
   "cell_type": "markdown",
   "metadata": {
    "id": "e5ORnX7KKYHb"
   },
   "source": [
    "## Comparison of performance of different experiments"
   ]
  },
  {
   "cell_type": "markdown",
   "metadata": {
    "id": "3DKWuuHaxSWK"
   },
   "source": [
    "Let's plot a histogram to visualise and compare the results from experiment above."
   ]
  },
  {
   "cell_type": "code",
   "execution_count": null,
   "metadata": {
    "colab": {
     "base_uri": "https://localhost:8080/",
     "height": 269
    },
    "id": "72m7LP6b_gi4",
    "outputId": "b99f6a29-97d7-4eea-d727-dfba655a2650"
   },
   "outputs": [
    {
     "data": {
      "image/png": "[encoded data removed]",
      "text/plain": [
       "<Figure size 432x288 with 2 Axes>"
      ]
     },
     "metadata": {
      "needs_background": "light",
      "tags": []
     },
     "output_type": "display_data"
    }
   ],
   "source": [
    "result = {'KNN_0': KNN_performance_0, 'GNB_0': GNB_accuracy_0, \\\n",
    "          'KNN_1': KNN_performance_1,'GNB_1': GNB_accuracy_1,\\\n",
    "          'KNN_2': KNN_performance_2,'GNB_2': GNB_accuracy_2}\n",
    "          \n",
    "names = list(result.keys())\n",
    "accuracies = list(result.values())\n",
    "running_time = [end_0, end_5, end_1, end_3, end_2, end_4]\n",
    "\n",
    "x = np.arange(6) #names location\n",
    "w = 0.3 #width of bar\n",
    "\n",
    "# Bar 1- accuracy\n",
    "fig, ax1 = plt.subplots()\n",
    "plt.xticks(x + w /2, names)\n",
    "accuracy = ax1.bar(x, accuracies, width=w, color='b', align='center')\n",
    "plt.ylabel('Accuracy')\n",
    "\n",
    "# Bar 2- time\n",
    "ax2 = ax1.twinx() #share same x as bar 1\n",
    "runningt =ax2.bar(x + w, running_time, width=w,color='g',align='center')\n",
    "plt.ylabel('Running time')\n",
    "\n",
    "# Legends and annotation of values\n",
    "plt.legend([accuracy, runningt],['Accuracy in %', 'Running time in seconds'],bbox_to_anchor=(1.1, 0.8), loc=(2,1))\n",
    "\n",
    "for rect in accuracy:\n",
    "  height = rect.get_height()\n",
    "  ax1.annotate('{:.2f}'.format(height),\n",
    "            xy=(rect.get_x() + rect.get_width() / 2, height),\n",
    "            xytext=(-5, 3),  # 3 points vertical offset\n",
    "            textcoords=\"offset points\",\n",
    "            ha='center', va='bottom')\n",
    "  \n",
    "for rect in runningt:\n",
    "  height = rect.get_height()\n",
    "  ax2.annotate('{:.2f}'.format(height),\n",
    "            xy=(rect.get_x() + rect.get_width() / 2, height),\n",
    "            xytext=(10, 3), \n",
    "            textcoords=\"offset points\",\n",
    "            ha='center', va='bottom')\n",
    "\n",
    "plt.show()"
   ]
  },
  {
   "cell_type": "markdown",
   "metadata": {
    "id": "peBZZyVR3XMw"
   },
   "source": [
    "Hence, the method I would propose is the one with highest accuracy: KNN classifier using unprocessed data."
   ]
  },
  {
   "cell_type": "markdown",
   "metadata": {
    "id": "mulfD9IOC_hE"
   },
   "source": [
    "## Summarisation of selected output"
   ]
  },
  {
   "cell_type": "code",
   "execution_count": null,
   "metadata": {
    "id": "o8_LozEo_l70"
   },
   "outputs": [],
   "source": [
    "def confusion_matrix(true, prediction):\n",
    "  \"\"\"This function is to return the confusion matrix of predicted results vs true results\n",
    "  input1- an array with shape (q, )\n",
    "  input2- an array with shape (q, )\n",
    "  output- confusion matrix with shape c x c where c is the no. of categories\n",
    "\n",
    "  row = actual classes; col = predicted classes\n",
    "        0     1     2   ...\n",
    "    0 (0,0) (0,1) (0,2)\n",
    "    1 (1,0) (1,1) (1,2)\n",
    "    2 (2,0) (2,1) (2,2)\n",
    "    .\n",
    "    .\n",
    "  \"\"\"\n",
    "  c = len(np.unique(true))\n",
    "  confusion_matrix = np.zeros((c,c))\n",
    "\n",
    "  for i in range(len(true)):\n",
    "    confusion_matrix[int(true[i]),int(prediction[i])] += 1\n",
    "\n",
    "  return confusion_matrix\n"
   ]
  },
  {
   "cell_type": "code",
   "execution_count": null,
   "metadata": {
    "colab": {
     "base_uri": "https://localhost:8080/",
     "height": 201
    },
    "id": "K-Rdw9N9zNHg",
    "outputId": "2fd85440-4355-4106-c5b2-92afc30e38f9"
   },
   "outputs": [
    {
     "name": "stdout",
     "output_type": "stream",
     "text": [
      "[[158.   0.   5.   2.   3.   0.  22.   0.   2.   0.]\n",
      " [  0. 183.   0.   1.   0.   0.   0.   0.   0.   0.]\n",
      " [  6.   0. 164.   4.  23.   0.   9.   0.   0.   0.]\n",
      " [ 11.   0.   4. 169.  12.   0.  11.   0.   0.   0.]\n",
      " [  3.   0.  36.  10. 154.   0.  17.   0.   0.   0.]\n",
      " [  0.   0.   0.   1.   0. 156.   0.  19.   0.  14.]\n",
      " [ 34.   0.  22.   4.  13.   0. 113.   0.   4.   0.]\n",
      " [  0.   0.   0.   0.   0.   1.   0. 181.   0.  10.]\n",
      " [  0.   0.   4.   1.   1.   0.   4.   2. 215.   0.]\n",
      " [  0.   0.   0.   0.   0.   0.   0.   6.   0. 186.]]\n"
     ]
    }
   ],
   "source": [
    "cm = confusion_matrix(label_test, output_KNN_0[:2000])\n",
    "print(cm)"
   ]
  },
  {
   "cell_type": "code",
   "execution_count": null,
   "metadata": {
    "colab": {
     "base_uri": "https://localhost:8080/",
     "height": 35
    },
    "id": "yFNYEtMt-hqS",
    "outputId": "449bfb4e-152d-4804-84fa-8df11ceeb4a2"
   },
   "outputs": [
    {
     "name": "stdout",
     "output_type": "stream",
     "text": [
      "[158. 183. 164. 169. 154. 156. 113. 181. 215. 186.]\n"
     ]
    }
   ],
   "source": [
    "TP = np.diag(cm)\n",
    "print(TP)"
   ]
  },
  {
   "cell_type": "code",
   "execution_count": null,
   "metadata": {
    "colab": {
     "base_uri": "https://localhost:8080/",
     "height": 35
    },
    "id": "Dcpf5q5pGkUW",
    "outputId": "6db3cbf7-dd24-4298-a5a5-e4cf8214ffad"
   },
   "outputs": [
    {
     "data": {
      "text/plain": [
       "1679.0"
      ]
     },
     "execution_count": 52,
     "metadata": {
      "tags": []
     },
     "output_type": "execute_result"
    }
   ],
   "source": [
    "np.sum(TP)"
   ]
  },
  {
   "cell_type": "code",
   "execution_count": null,
   "metadata": {
    "colab": {
     "base_uri": "https://localhost:8080/",
     "height": 35
    },
    "id": "ScaqDvEpExlr",
    "outputId": "902d8c10-fe77-4ff3-a494-e3658f2789bf"
   },
   "outputs": [
    {
     "name": "stdout",
     "output_type": "stream",
     "text": [
      "[34.  1. 42. 38. 66. 34. 77. 11. 12.  6.]\n"
     ]
    }
   ],
   "source": [
    "FP = np.sum(cm, axis=1) - TP\n",
    "print(FP)"
   ]
  },
  {
   "cell_type": "code",
   "execution_count": null,
   "metadata": {
    "colab": {
     "base_uri": "https://localhost:8080/",
     "height": 35
    },
    "id": "7NKsOuKUFZJU",
    "outputId": "e61e07c5-b9c0-4f01-e7e9-298ea10140c0"
   },
   "outputs": [
    {
     "name": "stdout",
     "output_type": "stream",
     "text": [
      "[54.  0. 71. 23. 52.  1. 63. 27.  6. 24.]\n"
     ]
    }
   ],
   "source": [
    "FN = np.sum(cm, axis=0) - TP\n",
    "print(FN)"
   ]
  },
  {
   "cell_type": "code",
   "execution_count": null,
   "metadata": {
    "colab": {
     "base_uri": "https://localhost:8080/",
     "height": 35
    },
    "id": "bfeYFc1NHxU5",
    "outputId": "bd052adf-8cde-4f17-c8d9-c688000e881d"
   },
   "outputs": [
    {
     "name": "stdout",
     "output_type": "stream",
     "text": [
      "[1754. 1816. 1723. 1770. 1728. 1809. 1747. 1781. 1767. 1784.]\n"
     ]
    }
   ],
   "source": [
    "TN = np.sum(cm) - (TP + FP + FN)\n",
    "print(TN)"
   ]
  },
  {
   "cell_type": "code",
   "execution_count": null,
   "metadata": {
    "colab": {
     "base_uri": "https://localhost:8080/",
     "height": 164
    },
    "id": "9khEreE4F7xi",
    "outputId": "76112e9b-8f05-4cf7-efea-96549f77d1db"
   },
   "outputs": [
    {
     "name": "stdout",
     "output_type": "stream",
     "text": [
      "Precision, (p) = [0.82291667 0.99456522 0.7961165  0.81642512 0.7        0.82105263\n",
      " 0.59473684 0.94270833 0.94713656 0.96875   ]\n",
      "\n",
      "Recall, (r) = [0.74528302 1.         0.69787234 0.88020833 0.74757282 0.99363057\n",
      " 0.64204545 0.87019231 0.97285068 0.88571429]\n",
      "\n",
      "F-meausre, (F) = [0.78217822 0.9972752  0.74376417 0.84711779 0.72300469 0.89913545\n",
      " 0.61748634 0.905      0.95982143 0.92537313]\n"
     ]
    }
   ],
   "source": [
    "precision = TP/(TP + FP)\n",
    "recall = TP/(TP + FN)\n",
    "f1 = 2*TP/(2*TP + FN + FP)\n",
    "print(\"Precision, (p) = {}\\n\".format(precision))\n",
    "print(\"Recall, (r) = {}\\n\".format(recall))\n",
    "print(\"F-meausre, (F) = {}\".format(f1))"
   ]
  },
  {
   "cell_type": "markdown",
   "metadata": {
    "id": "CLHRVxsszF8J"
   },
   "source": [
    "## Save output as h5py file (must be run)"
   ]
  },
  {
   "cell_type": "code",
   "execution_count": null,
   "metadata": {
    "id": "gOa8SVs-3LnG"
   },
   "outputs": [],
   "source": [
    "with h5py.File('./Output/predicted_labels.h5','w') as H:\n",
    "  H.create_dataset('Output',data=output_KNN_0)"
   ]
  }
 ],
 "metadata": {
  "colab": {
   "collapsed_sections": [
    "jb86n8nt3SAi",
    "XzL0zN0eqWtm"
   ],
   "name": "SID500386873_code.ipynb",
   "provenance": [],
   "toc_visible": true
  },
  "kernelspec": {
   "display_name": "Python 3",
   "language": "python",
   "name": "python3"
  },
  "language_info": {
   "codemirror_mode": {
    "name": "ipython",
    "version": 3
   },
   "file_extension": ".py",
   "mimetype": "text/x-python",
   "name": "python",
   "nbconvert_exporter": "python",
   "pygments_lexer": "ipython3",
   "version": "3.8.1"
  }
 },
 "nbformat": 4,
 "nbformat_minor": 1
}
